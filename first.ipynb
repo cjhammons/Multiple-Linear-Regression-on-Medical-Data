{
 "cells": [
  {
   "cell_type": "code",
   "execution_count": 1,
   "metadata": {},
   "outputs": [],
   "source": [
    "import numpy as np\n",
    "import pandas as pd"
   ]
  },
  {
   "cell_type": "markdown",
   "metadata": {},
   "source": [
    "# Data Import and Prep\n",
    "\n",
    "First we import the data and remove irrelavent columns and convert categorical data to numeric"
   ]
  },
  {
   "cell_type": "code",
   "execution_count": 27,
   "metadata": {},
   "outputs": [
    {
     "data": {
      "text/html": [
       "<div>\n",
       "<style scoped>\n",
       "    .dataframe tbody tr th:only-of-type {\n",
       "        vertical-align: middle;\n",
       "    }\n",
       "\n",
       "    .dataframe tbody tr th {\n",
       "        vertical-align: top;\n",
       "    }\n",
       "\n",
       "    .dataframe thead th {\n",
       "        text-align: right;\n",
       "    }\n",
       "</style>\n",
       "<table border=\"1\" class=\"dataframe\">\n",
       "  <thead>\n",
       "    <tr style=\"text-align: right;\">\n",
       "      <th></th>\n",
       "      <th>Population</th>\n",
       "      <th>Income</th>\n",
       "      <th>VitD_levels</th>\n",
       "      <th>Initial_days</th>\n",
       "      <th>Age</th>\n",
       "      <th>Full_meals_eaten</th>\n",
       "      <th>Children</th>\n",
       "      <th>Doc_visits</th>\n",
       "      <th>TotalCharge</th>\n",
       "    </tr>\n",
       "  </thead>\n",
       "  <tbody>\n",
       "    <tr>\n",
       "      <th>0</th>\n",
       "      <td>2951</td>\n",
       "      <td>86575.93</td>\n",
       "      <td>19.141466</td>\n",
       "      <td>10.585770</td>\n",
       "      <td>53</td>\n",
       "      <td>0</td>\n",
       "      <td>1</td>\n",
       "      <td>6</td>\n",
       "      <td>3726.702860</td>\n",
       "    </tr>\n",
       "    <tr>\n",
       "      <th>1</th>\n",
       "      <td>11303</td>\n",
       "      <td>46805.99</td>\n",
       "      <td>18.940352</td>\n",
       "      <td>15.129562</td>\n",
       "      <td>51</td>\n",
       "      <td>2</td>\n",
       "      <td>3</td>\n",
       "      <td>4</td>\n",
       "      <td>4193.190458</td>\n",
       "    </tr>\n",
       "    <tr>\n",
       "      <th>2</th>\n",
       "      <td>17125</td>\n",
       "      <td>14370.14</td>\n",
       "      <td>18.057507</td>\n",
       "      <td>4.772177</td>\n",
       "      <td>53</td>\n",
       "      <td>1</td>\n",
       "      <td>3</td>\n",
       "      <td>4</td>\n",
       "      <td>2434.234222</td>\n",
       "    </tr>\n",
       "    <tr>\n",
       "      <th>3</th>\n",
       "      <td>2162</td>\n",
       "      <td>39741.49</td>\n",
       "      <td>16.576858</td>\n",
       "      <td>1.714879</td>\n",
       "      <td>78</td>\n",
       "      <td>1</td>\n",
       "      <td>0</td>\n",
       "      <td>4</td>\n",
       "      <td>2127.830423</td>\n",
       "    </tr>\n",
       "    <tr>\n",
       "      <th>4</th>\n",
       "      <td>5287</td>\n",
       "      <td>1209.56</td>\n",
       "      <td>17.439069</td>\n",
       "      <td>1.254807</td>\n",
       "      <td>22</td>\n",
       "      <td>0</td>\n",
       "      <td>1</td>\n",
       "      <td>5</td>\n",
       "      <td>2113.073274</td>\n",
       "    </tr>\n",
       "  </tbody>\n",
       "</table>\n",
       "</div>"
      ],
      "text/plain": [
       "   Population    Income  VitD_levels  Initial_days  Age  Full_meals_eaten  \\\n",
       "0        2951  86575.93    19.141466     10.585770   53                 0   \n",
       "1       11303  46805.99    18.940352     15.129562   51                 2   \n",
       "2       17125  14370.14    18.057507      4.772177   53                 1   \n",
       "3        2162  39741.49    16.576858      1.714879   78                 1   \n",
       "4        5287   1209.56    17.439069      1.254807   22                 0   \n",
       "\n",
       "   Children  Doc_visits  TotalCharge  \n",
       "0         1           6  3726.702860  \n",
       "1         3           4  4193.190458  \n",
       "2         3           4  2434.234222  \n",
       "3         0           4  2127.830423  \n",
       "4         1           5  2113.073274  "
      ]
     },
     "execution_count": 27,
     "metadata": {},
     "output_type": "execute_result"
    }
   ],
   "source": [
    "df = pd.read_csv('data/medical_clean.csv')\n",
    "\n",
    "predictors = ['Population', 'Income', 'VitD_levels', 'Age', 'Full_meals_eaten', 'Initial_days', 'Children', 'Doc_visits']\n",
    "outcome = 'TotalCharge'\n",
    "\n",
    "df = df[['Population', 'Income', 'VitD_levels', 'Initial_days', 'Age', 'Full_meals_eaten', 'Children', 'Doc_visits', 'TotalCharge']]\n",
    "df.head()"
   ]
  },
  {
   "cell_type": "code",
   "execution_count": 17,
   "metadata": {},
   "outputs": [
    {
     "name": "stdout",
     "output_type": "stream",
     "text": [
      "6921122.221071773\n"
     ]
    },
    {
     "data": {
      "image/png": "[encoded data removed]",
      "text/plain": [
       "<Figure size 432x288 with 1 Axes>"
      ]
     },
     "metadata": {
      "needs_background": "light"
     },
     "output_type": "display_data"
    }
   ],
   "source": [
    "mean_expected_value = df[outcome].mean()\n",
    "squared_errors = pd.Series(mean_expected_value - df[outcome])**2\n",
    "SSE = np.sum(squared_errors)\n",
    "print(SSE)\n",
    "\n",
    "density_plot = squared_errors.plot(kind='hist')"
   ]
  },
  {
   "cell_type": "code",
   "execution_count": 18,
   "metadata": {},
   "outputs": [],
   "source": [
    "# def covariance(variable_1, variable_2, bias=0):\n",
    "#     observations = float(len(variable_1))\n",
    "#     return np.sum((variable_1 - np.mean(variable_1)) * \\\n",
    "#     (variable_2 - np.mean(variable_2)))/(observations-min(bias,1))\n",
    "\n",
    "# def standardize(variable):\n",
    "#     return (variable - np.mean(variable)) / np.std(variable)\n",
    "\n",
    "# def correlation(var1,var2,bias=0):\n",
    "#     return covariance(standardize(var1), standardize(var2),bias)\n",
    "\n",
    "# from scipy.stats.stats import pearsonr\n",
    "\n",
    "# for c in predictors:\n",
    "#     print ('Our correlation estimation for %s: %0.5f' % (c, correlation(df[c], df[outcome])))\n",
    "#     print ('Correlation from Scipy pearsonr estimation: %0.5f' % pearsonr(df[c], df[outcome])[0])\n",
    "#     print()"
   ]
  },
  {
   "cell_type": "code",
   "execution_count": 19,
   "metadata": {},
   "outputs": [],
   "source": [
    "# x_range = [df['Initial_days'].min(),df['Initial_days'].max()]\n",
    "# y_range = [df[outcome].min(),df[outcome].max()]\n",
    "# scatter_plot = df.plot(kind='scatter', x='Initial_days', y=outcome,xlim=x_range, ylim=y_range)\n",
    "# meanY = scatter_plot.plot(x_range, [df[outcome].mean(),  df[outcome].mean()], '--' , color='red', linewidth=1)\n",
    "# meanX = scatter_plot.plot([df['Initial_days'].mean(),df['Initial_days'].mean()], y_range, '--', color='red', linewidth=1)"
   ]
  },
  {
   "cell_type": "markdown",
   "metadata": {},
   "source": [
    "apply a scaler"
   ]
  },
  {
   "cell_type": "code",
   "execution_count": 29,
   "metadata": {},
   "outputs": [
    {
     "data": {
      "text/html": [
       "<div>\n",
       "<style scoped>\n",
       "    .dataframe tbody tr th:only-of-type {\n",
       "        vertical-align: middle;\n",
       "    }\n",
       "\n",
       "    .dataframe tbody tr th {\n",
       "        vertical-align: top;\n",
       "    }\n",
       "\n",
       "    .dataframe thead th {\n",
       "        text-align: right;\n",
       "    }\n",
       "</style>\n",
       "<table border=\"1\" class=\"dataframe\">\n",
       "  <thead>\n",
       "    <tr style=\"text-align: right;\">\n",
       "      <th></th>\n",
       "      <th>Population</th>\n",
       "      <th>Income</th>\n",
       "      <th>VitD_levels</th>\n",
       "      <th>Initial_days</th>\n",
       "      <th>Age</th>\n",
       "      <th>Full_meals_eaten</th>\n",
       "      <th>Children</th>\n",
       "      <th>Doc_visits</th>\n",
       "      <th>TotalCharge</th>\n",
       "    </tr>\n",
       "  </thead>\n",
       "  <tbody>\n",
       "    <tr>\n",
       "      <th>0</th>\n",
       "      <td>-0.473168</td>\n",
       "      <td>1.615914</td>\n",
       "      <td>0.583603</td>\n",
       "      <td>-0.907310</td>\n",
       "      <td>-0.024795</td>\n",
       "      <td>-0.993387</td>\n",
       "      <td>-0.507129</td>\n",
       "      <td>0.944647</td>\n",
       "      <td>-0.727185</td>\n",
       "    </tr>\n",
       "    <tr>\n",
       "      <th>1</th>\n",
       "      <td>0.090242</td>\n",
       "      <td>0.221443</td>\n",
       "      <td>0.483901</td>\n",
       "      <td>-0.734595</td>\n",
       "      <td>-0.121706</td>\n",
       "      <td>0.990609</td>\n",
       "      <td>0.417277</td>\n",
       "      <td>-0.967981</td>\n",
       "      <td>-0.513228</td>\n",
       "    </tr>\n",
       "    <tr>\n",
       "      <th>2</th>\n",
       "      <td>0.482983</td>\n",
       "      <td>-0.915870</td>\n",
       "      <td>0.046227</td>\n",
       "      <td>-1.128292</td>\n",
       "      <td>-0.024795</td>\n",
       "      <td>-0.001389</td>\n",
       "      <td>0.417277</td>\n",
       "      <td>-0.967981</td>\n",
       "      <td>-1.319983</td>\n",
       "    </tr>\n",
       "    <tr>\n",
       "      <th>3</th>\n",
       "      <td>-0.526393</td>\n",
       "      <td>-0.026263</td>\n",
       "      <td>-0.687811</td>\n",
       "      <td>-1.244503</td>\n",
       "      <td>1.186592</td>\n",
       "      <td>-0.001389</td>\n",
       "      <td>-0.969332</td>\n",
       "      <td>-0.967981</td>\n",
       "      <td>-1.460517</td>\n",
       "    </tr>\n",
       "    <tr>\n",
       "      <th>4</th>\n",
       "      <td>-0.315586</td>\n",
       "      <td>-1.377325</td>\n",
       "      <td>-0.260366</td>\n",
       "      <td>-1.261991</td>\n",
       "      <td>-1.526914</td>\n",
       "      <td>-0.993387</td>\n",
       "      <td>-0.507129</td>\n",
       "      <td>-0.011667</td>\n",
       "      <td>-1.467285</td>\n",
       "    </tr>\n",
       "  </tbody>\n",
       "</table>\n",
       "</div>"
      ],
      "text/plain": [
       "   Population    Income  VitD_levels  Initial_days       Age  \\\n",
       "0   -0.473168  1.615914     0.583603     -0.907310 -0.024795   \n",
       "1    0.090242  0.221443     0.483901     -0.734595 -0.121706   \n",
       "2    0.482983 -0.915870     0.046227     -1.128292 -0.024795   \n",
       "3   -0.526393 -0.026263    -0.687811     -1.244503  1.186592   \n",
       "4   -0.315586 -1.377325    -0.260366     -1.261991 -1.526914   \n",
       "\n",
       "   Full_meals_eaten  Children  Doc_visits  TotalCharge  \n",
       "0         -0.993387 -0.507129    0.944647    -0.727185  \n",
       "1          0.990609  0.417277   -0.967981    -0.513228  \n",
       "2         -0.001389  0.417277   -0.967981    -1.319983  \n",
       "3         -0.001389 -0.969332   -0.967981    -1.460517  \n",
       "4         -0.993387 -0.507129   -0.011667    -1.467285  "
      ]
     },
     "execution_count": 29,
     "metadata": {},
     "output_type": "execute_result"
    }
   ],
   "source": [
    "from sklearn.preprocessing import StandardScaler\n",
    "\n",
    "scaler = StandardScaler()\n",
    "\n",
    "scaled = scaler.fit_transform(df)\n",
    "df_scaled = pd.DataFrame(scaled, columns=df.columns)\n",
    "df_scaled.head()"
   ]
  },
  {
   "cell_type": "markdown",
   "metadata": {},
   "source": [
    "We'll save this modified dataset"
   ]
  },
  {
   "cell_type": "code",
   "execution_count": 30,
   "metadata": {},
   "outputs": [],
   "source": [
    "df_scaled.to_csv('data/medical_scaled.csv')"
   ]
  },
  {
   "cell_type": "markdown",
   "metadata": {},
   "source": [
    "# Graphs and stuff\n",
    "\n",
    "Let's look at the correlation"
   ]
  },
  {
   "cell_type": "code",
   "execution_count": 31,
   "metadata": {},
   "outputs": [
    {
     "data": {
      "text/html": [
       "<div>\n",
       "<style scoped>\n",
       "    .dataframe tbody tr th:only-of-type {\n",
       "        vertical-align: middle;\n",
       "    }\n",
       "\n",
       "    .dataframe tbody tr th {\n",
       "        vertical-align: top;\n",
       "    }\n",
       "\n",
       "    .dataframe thead th {\n",
       "        text-align: right;\n",
       "    }\n",
       "</style>\n",
       "<table border=\"1\" class=\"dataframe\">\n",
       "  <thead>\n",
       "    <tr style=\"text-align: right;\">\n",
       "      <th></th>\n",
       "      <th>Population</th>\n",
       "      <th>Income</th>\n",
       "      <th>VitD_levels</th>\n",
       "      <th>Initial_days</th>\n",
       "      <th>Age</th>\n",
       "      <th>Full_meals_eaten</th>\n",
       "      <th>Children</th>\n",
       "      <th>Doc_visits</th>\n",
       "      <th>TotalCharge</th>\n",
       "    </tr>\n",
       "  </thead>\n",
       "  <tbody>\n",
       "    <tr>\n",
       "      <th>Population</th>\n",
       "      <td>1.000000</td>\n",
       "      <td>0.005426</td>\n",
       "      <td>0.002651</td>\n",
       "      <td>0.017469</td>\n",
       "      <td>-0.018987</td>\n",
       "      <td>-0.025608</td>\n",
       "      <td>0.002462</td>\n",
       "      <td>0.012646</td>\n",
       "      <td>0.019188</td>\n",
       "    </tr>\n",
       "    <tr>\n",
       "      <th>Income</th>\n",
       "      <td>0.005426</td>\n",
       "      <td>1.000000</td>\n",
       "      <td>-0.013115</td>\n",
       "      <td>-0.012465</td>\n",
       "      <td>-0.012228</td>\n",
       "      <td>-0.011365</td>\n",
       "      <td>0.007176</td>\n",
       "      <td>0.013464</td>\n",
       "      <td>-0.014345</td>\n",
       "    </tr>\n",
       "    <tr>\n",
       "      <th>VitD_levels</th>\n",
       "      <td>0.002651</td>\n",
       "      <td>-0.013115</td>\n",
       "      <td>1.000000</td>\n",
       "      <td>-0.003642</td>\n",
       "      <td>0.010315</td>\n",
       "      <td>0.023223</td>\n",
       "      <td>0.009487</td>\n",
       "      <td>0.010210</td>\n",
       "      <td>-0.001403</td>\n",
       "    </tr>\n",
       "    <tr>\n",
       "      <th>Initial_days</th>\n",
       "      <td>0.017469</td>\n",
       "      <td>-0.012465</td>\n",
       "      <td>-0.003642</td>\n",
       "      <td>1.000000</td>\n",
       "      <td>0.016264</td>\n",
       "      <td>-0.017267</td>\n",
       "      <td>0.022467</td>\n",
       "      <td>-0.006754</td>\n",
       "      <td>0.987640</td>\n",
       "    </tr>\n",
       "    <tr>\n",
       "      <th>Age</th>\n",
       "      <td>-0.018987</td>\n",
       "      <td>-0.012228</td>\n",
       "      <td>0.010315</td>\n",
       "      <td>0.016264</td>\n",
       "      <td>1.000000</td>\n",
       "      <td>0.008555</td>\n",
       "      <td>0.009836</td>\n",
       "      <td>0.006898</td>\n",
       "      <td>0.016876</td>\n",
       "    </tr>\n",
       "    <tr>\n",
       "      <th>Full_meals_eaten</th>\n",
       "      <td>-0.025608</td>\n",
       "      <td>-0.011365</td>\n",
       "      <td>0.023223</td>\n",
       "      <td>-0.017267</td>\n",
       "      <td>0.008555</td>\n",
       "      <td>1.000000</td>\n",
       "      <td>0.003835</td>\n",
       "      <td>-0.002767</td>\n",
       "      <td>-0.014306</td>\n",
       "    </tr>\n",
       "    <tr>\n",
       "      <th>Children</th>\n",
       "      <td>0.002462</td>\n",
       "      <td>0.007176</td>\n",
       "      <td>0.009487</td>\n",
       "      <td>0.022467</td>\n",
       "      <td>0.009836</td>\n",
       "      <td>0.003835</td>\n",
       "      <td>1.000000</td>\n",
       "      <td>-0.002292</td>\n",
       "      <td>0.024100</td>\n",
       "    </tr>\n",
       "    <tr>\n",
       "      <th>Doc_visits</th>\n",
       "      <td>0.012646</td>\n",
       "      <td>0.013464</td>\n",
       "      <td>0.010210</td>\n",
       "      <td>-0.006754</td>\n",
       "      <td>0.006898</td>\n",
       "      <td>-0.002767</td>\n",
       "      <td>-0.002292</td>\n",
       "      <td>1.000000</td>\n",
       "      <td>-0.005043</td>\n",
       "    </tr>\n",
       "    <tr>\n",
       "      <th>TotalCharge</th>\n",
       "      <td>0.019188</td>\n",
       "      <td>-0.014345</td>\n",
       "      <td>-0.001403</td>\n",
       "      <td>0.987640</td>\n",
       "      <td>0.016876</td>\n",
       "      <td>-0.014306</td>\n",
       "      <td>0.024100</td>\n",
       "      <td>-0.005043</td>\n",
       "      <td>1.000000</td>\n",
       "    </tr>\n",
       "  </tbody>\n",
       "</table>\n",
       "</div>"
      ],
      "text/plain": [
       "                  Population    Income  VitD_levels  Initial_days       Age  \\\n",
       "Population          1.000000  0.005426     0.002651      0.017469 -0.018987   \n",
       "Income              0.005426  1.000000    -0.013115     -0.012465 -0.012228   \n",
       "VitD_levels         0.002651 -0.013115     1.000000     -0.003642  0.010315   \n",
       "Initial_days        0.017469 -0.012465    -0.003642      1.000000  0.016264   \n",
       "Age                -0.018987 -0.012228     0.010315      0.016264  1.000000   \n",
       "Full_meals_eaten   -0.025608 -0.011365     0.023223     -0.017267  0.008555   \n",
       "Children            0.002462  0.007176     0.009487      0.022467  0.009836   \n",
       "Doc_visits          0.012646  0.013464     0.010210     -0.006754  0.006898   \n",
       "TotalCharge         0.019188 -0.014345    -0.001403      0.987640  0.016876   \n",
       "\n",
       "                  Full_meals_eaten  Children  Doc_visits  TotalCharge  \n",
       "Population               -0.025608  0.002462    0.012646     0.019188  \n",
       "Income                   -0.011365  0.007176    0.013464    -0.014345  \n",
       "VitD_levels               0.023223  0.009487    0.010210    -0.001403  \n",
       "Initial_days             -0.017267  0.022467   -0.006754     0.987640  \n",
       "Age                       0.008555  0.009836    0.006898     0.016876  \n",
       "Full_meals_eaten          1.000000  0.003835   -0.002767    -0.014306  \n",
       "Children                  0.003835  1.000000   -0.002292     0.024100  \n",
       "Doc_visits               -0.002767 -0.002292    1.000000    -0.005043  \n",
       "TotalCharge              -0.014306  0.024100   -0.005043     1.000000  "
      ]
     },
     "metadata": {},
     "output_type": "display_data"
    }
   ],
   "source": [
    "correl = df_scaled.corr()\n",
    "display(correl)"
   ]
  },
  {
   "cell_type": "code",
   "execution_count": 32,
   "metadata": {},
   "outputs": [
    {
     "data": {
      "image/png": "[encoded data removed]",
      "text/plain": [
       "<Figure size 432x288 with 2 Axes>"
      ]
     },
     "metadata": {
      "needs_background": "light"
     },
     "output_type": "display_data"
    }
   ],
   "source": [
    "import matplotlib.pyplot as plt\n",
    "import matplotlib as mpl\n",
    "import seaborn as sns\n",
    "\n",
    "def visualize_correlation_matrix(data, hurdle = 0.0):\n",
    "    R = np.corrcoef(data, rowvar=0)\n",
    "    R[np.where(np.abs(R)<hurdle)] = 0.0\n",
    "    heatmap = plt.pcolor(R, cmap=mpl.cm.coolwarm, alpha=0.8)\n",
    "    heatmap.axes.set_frame_on(False)\n",
    "    heatmap.axes.set_yticks(np.arange(R.shape[0]) + 0.5, minor=False)\n",
    "    heatmap.axes.set_xticks(np.arange(R.shape[1]) + 0.5, minor=False)\n",
    "    heatmap.axes.set_xticklabels(data.columns, minor=False)\n",
    "    plt.xticks(rotation=90)\n",
    "    heatmap.axes.set_yticklabels(data.columns, minor=False)\n",
    "    plt.tick_params(axis='both', which='both', bottom='off', \\\n",
    "    top='off', left = 'off', right = 'off')\n",
    "    plt.colorbar()\n",
    "    plt.show()\n",
    "\n",
    "visualize_correlation_matrix(df_scaled, hurdle=0.5)"
   ]
  },
  {
   "cell_type": "code",
   "execution_count": null,
   "metadata": {},
   "outputs": [],
   "source": []
  },
  {
   "cell_type": "markdown",
   "metadata": {},
   "source": [
    "# Apply the model\n",
    "\n",
    "First we run the model with all of our selected features and note the score"
   ]
  },
  {
   "cell_type": "code",
   "execution_count": 24,
   "metadata": {},
   "outputs": [
    {
     "name": "stdout",
     "output_type": "stream",
     "text": [
      "Initial Score: -0.00227 \n"
     ]
    }
   ],
   "source": [
    "import statsmodels.api as sm\n",
    "from sklearn.model_selection import train_test_split\n",
    "from sklearn.linear_model import LinearRegression\n",
    "\n",
    "X = df_scaled[predictors]\n",
    "X = sm.add_constant(X)\n",
    "y = df[outcome].values\n",
    "\n",
    "X_train, X_test, y_train, y_test = train_test_split(X, y, test_size=.80)\n",
    "\n",
    "regression = LinearRegression()\n",
    "model = regression.fit(X_train, y_train)\n",
    "initial_score = model.score(X_test, y_test)\n",
    "print('Initial Score: %6.5f ' % initial_score)"
   ]
  },
  {
   "cell_type": "markdown",
   "metadata": {},
   "source": [
    "Now we'll vary the features used in order to determine the most important features."
   ]
  },
  {
   "cell_type": "code",
   "execution_count": 25,
   "metadata": {},
   "outputs": [
    {
     "name": "stdout",
     "output_type": "stream",
     "text": [
      "0.00058 Children\n",
      "0.00009 Population\n",
      "0.00000 const\n",
      "-0.00007 VitD_levels\n",
      "-0.00013 Doc_visits\n",
      "-0.00017 Full_meals_eaten\n",
      "-0.00092 Age\n",
      "-0.00130 Income\n",
      "Using new predictor set: \n",
      "[]\n"
     ]
    }
   ],
   "source": [
    "regression = LinearRegression()\n",
    "\n",
    "def score_est(X_train, X_test, y_train, y_test):\n",
    "    model = regression.fit(X_train, y_train)\n",
    "    score = model.score(X_test, y_test)\n",
    "    return score\n",
    "\n",
    "score_impact = list()\n",
    "\n",
    "for i in range(len(X.columns)):\n",
    "    selection = [j for j in range(len(X.columns)) if i != j]\n",
    "    score_impact.append(((score_est(X_train.values, X_test.values, y_train, y_test) - \n",
    "                        score_est(X_train.values[:,selection], X_test.values[:,selection], \n",
    "                              y_train, y_test)), X.columns[i]))\n",
    "\n",
    "reduced_predictors = []\n",
    "    \n",
    "for imp, varname in sorted(score_impact, reverse=True):\n",
    "    if imp >=.01:\n",
    "        reduced_predictors.append(varname)\n",
    "    print('%6.5f %s' % (imp, varname))\n",
    "\n",
    "print('Using new predictor set: ')\n",
    "print(reduced_predictors)"
   ]
  },
  {
   "cell_type": "code",
   "execution_count": null,
   "metadata": {},
   "outputs": [],
   "source": []
  },
  {
   "cell_type": "markdown",
   "metadata": {},
   "source": [
    "We rebuild the model with the new reduced feature set and see how the score changed."
   ]
  },
  {
   "cell_type": "code",
   "execution_count": 12,
   "metadata": {},
   "outputs": [
    {
     "name": "stdout",
     "output_type": "stream",
     "text": [
      "New Score: 1.00000\n",
      "Change: 0.00000\n"
     ]
    }
   ],
   "source": [
    "X_reduced = X[reduced_predictors]\n",
    "\n",
    "X_train_reduced = X_train[reduced_predictors]\n",
    "X_test_reduced = X_test[reduced_predictors]\n",
    "\n",
    "regression = LinearRegression()\n",
    "model = regression.fit(X_train_reduced, y_train)\n",
    "new_score = model.score(X_test_reduced, y_test)\n",
    "print('New Score: %6.5f' % new_score)\n",
    "print('Change: %6.5f' % (new_score - initial_score))"
   ]
  },
  {
   "cell_type": "code",
   "execution_count": 13,
   "metadata": {},
   "outputs": [
    {
     "data": {
      "text/html": [
       "<table class=\"simpletable\">\n",
       "<caption>OLS Regression Results</caption>\n",
       "<tr>\n",
       "  <th>Dep. Variable:</th>            <td>y</td>        <th>  R-squared:         </th>  <td>   1.000</td> \n",
       "</tr>\n",
       "<tr>\n",
       "  <th>Model:</th>                   <td>OLS</td>       <th>  Adj. R-squared:    </th>  <td>   1.000</td> \n",
       "</tr>\n",
       "<tr>\n",
       "  <th>Method:</th>             <td>Least Squares</td>  <th>  F-statistic:       </th>  <td>1.194e+33</td>\n",
       "</tr>\n",
       "<tr>\n",
       "  <th>Date:</th>             <td>Mon, 28 Jun 2021</td> <th>  Prob (F-statistic):</th>   <td>  0.00</td>  \n",
       "</tr>\n",
       "<tr>\n",
       "  <th>Time:</th>                 <td>13:15:41</td>     <th>  Log-Likelihood:    </th> <td>2.9827e+05</td>\n",
       "</tr>\n",
       "<tr>\n",
       "  <th>No. Observations:</th>      <td> 10000</td>      <th>  AIC:               </th> <td>-5.965e+05</td>\n",
       "</tr>\n",
       "<tr>\n",
       "  <th>Df Residuals:</th>          <td>  9991</td>      <th>  BIC:               </th> <td>-5.965e+05</td>\n",
       "</tr>\n",
       "<tr>\n",
       "  <th>Df Model:</th>              <td>     8</td>      <th>                     </th>      <td> </td>    \n",
       "</tr>\n",
       "<tr>\n",
       "  <th>Covariance Type:</th>      <td>nonrobust</td>    <th>                     </th>      <td> </td>    \n",
       "</tr>\n",
       "</table>\n",
       "<table class=\"simpletable\">\n",
       "<tr>\n",
       "          <td></td>            <th>coef</th>     <th>std err</th>      <th>t</th>      <th>P>|t|</th>  <th>[0.025</th>    <th>0.975]</th>  \n",
       "</tr>\n",
       "<tr>\n",
       "  <th>const</th>            <td>   34.4553</td> <td> 2.69e-16</td> <td> 1.28e+17</td> <td> 0.000</td> <td>   34.455</td> <td>   34.455</td>\n",
       "</tr>\n",
       "<tr>\n",
       "  <th>Population</th>       <td> 1.088e-14</td> <td> 2.69e-16</td> <td>   40.384</td> <td> 0.000</td> <td> 1.04e-14</td> <td> 1.14e-14</td>\n",
       "</tr>\n",
       "<tr>\n",
       "  <th>Income</th>           <td> 1.228e-15</td> <td> 2.69e-16</td> <td>    4.560</td> <td> 0.000</td> <td>    7e-16</td> <td> 1.76e-15</td>\n",
       "</tr>\n",
       "<tr>\n",
       "  <th>VitD_levels</th>      <td>-1.721e-15</td> <td> 2.69e-16</td> <td>   -6.389</td> <td> 0.000</td> <td>-2.25e-15</td> <td>-1.19e-15</td>\n",
       "</tr>\n",
       "<tr>\n",
       "  <th>Initial_days</th>     <td>   26.3080</td> <td> 2.69e-16</td> <td> 9.76e+16</td> <td> 0.000</td> <td>   26.308</td> <td>   26.308</td>\n",
       "</tr>\n",
       "<tr>\n",
       "  <th>Age</th>              <td> 1.467e-14</td> <td> 2.69e-16</td> <td>   54.445</td> <td> 0.000</td> <td> 1.41e-14</td> <td> 1.52e-14</td>\n",
       "</tr>\n",
       "<tr>\n",
       "  <th>Full_meals_eaten</th> <td>-2.387e-15</td> <td> 2.69e-16</td> <td>   -8.859</td> <td> 0.000</td> <td>-2.92e-15</td> <td>-1.86e-15</td>\n",
       "</tr>\n",
       "<tr>\n",
       "  <th>Children</th>         <td> 9.992e-15</td> <td> 2.69e-16</td> <td>   37.101</td> <td> 0.000</td> <td> 9.46e-15</td> <td> 1.05e-14</td>\n",
       "</tr>\n",
       "<tr>\n",
       "  <th>Doc_visits</th>       <td>-2.054e-15</td> <td> 2.69e-16</td> <td>   -7.627</td> <td> 0.000</td> <td>-2.58e-15</td> <td>-1.53e-15</td>\n",
       "</tr>\n",
       "</table>\n",
       "<table class=\"simpletable\">\n",
       "<tr>\n",
       "  <th>Omnibus:</th>       <td>306.279</td> <th>  Durbin-Watson:     </th> <td>   1.319</td>\n",
       "</tr>\n",
       "<tr>\n",
       "  <th>Prob(Omnibus):</th> <td> 0.000</td>  <th>  Jarque-Bera (JB):  </th> <td> 334.679</td>\n",
       "</tr>\n",
       "<tr>\n",
       "  <th>Skew:</th>          <td>-0.437</td>  <th>  Prob(JB):          </th> <td>2.12e-73</td>\n",
       "</tr>\n",
       "<tr>\n",
       "  <th>Kurtosis:</th>      <td> 3.194</td>  <th>  Cond. No.          </th> <td>    1.05</td>\n",
       "</tr>\n",
       "</table><br/><br/>Notes:<br/>[1] Standard Errors assume that the covariance matrix of the errors is correctly specified."
      ],
      "text/plain": [
       "<class 'statsmodels.iolib.summary.Summary'>\n",
       "\"\"\"\n",
       "                            OLS Regression Results                            \n",
       "==============================================================================\n",
       "Dep. Variable:                      y   R-squared:                       1.000\n",
       "Model:                            OLS   Adj. R-squared:                  1.000\n",
       "Method:                 Least Squares   F-statistic:                 1.194e+33\n",
       "Date:                Mon, 28 Jun 2021   Prob (F-statistic):               0.00\n",
       "Time:                        13:15:41   Log-Likelihood:             2.9827e+05\n",
       "No. Observations:               10000   AIC:                        -5.965e+05\n",
       "Df Residuals:                    9991   BIC:                        -5.965e+05\n",
       "Df Model:                           8                                         \n",
       "Covariance Type:            nonrobust                                         \n",
       "====================================================================================\n",
       "                       coef    std err          t      P>|t|      [0.025      0.975]\n",
       "------------------------------------------------------------------------------------\n",
       "const               34.4553   2.69e-16   1.28e+17      0.000      34.455      34.455\n",
       "Population        1.088e-14   2.69e-16     40.384      0.000    1.04e-14    1.14e-14\n",
       "Income            1.228e-15   2.69e-16      4.560      0.000       7e-16    1.76e-15\n",
       "VitD_levels      -1.721e-15   2.69e-16     -6.389      0.000   -2.25e-15   -1.19e-15\n",
       "Initial_days        26.3080   2.69e-16   9.76e+16      0.000      26.308      26.308\n",
       "Age               1.467e-14   2.69e-16     54.445      0.000    1.41e-14    1.52e-14\n",
       "Full_meals_eaten -2.387e-15   2.69e-16     -8.859      0.000   -2.92e-15   -1.86e-15\n",
       "Children          9.992e-15   2.69e-16     37.101      0.000    9.46e-15    1.05e-14\n",
       "Doc_visits       -2.054e-15   2.69e-16     -7.627      0.000   -2.58e-15   -1.53e-15\n",
       "==============================================================================\n",
       "Omnibus:                      306.279   Durbin-Watson:                   1.319\n",
       "Prob(Omnibus):                  0.000   Jarque-Bera (JB):              334.679\n",
       "Skew:                          -0.437   Prob(JB):                     2.12e-73\n",
       "Kurtosis:                       3.194   Cond. No.                         1.05\n",
       "==============================================================================\n",
       "\n",
       "Notes:\n",
       "[1] Standard Errors assume that the covariance matrix of the errors is correctly specified.\n",
       "\"\"\""
      ]
     },
     "execution_count": 13,
     "metadata": {},
     "output_type": "execute_result"
    }
   ],
   "source": [
    "import statsmodels.api as sm\n",
    "\n",
    "# Xc = sm.add_constant(X)\n",
    "ols_model = sm.OLS(y, X)\n",
    "results = ols_model.fit()\n",
    "results.summary()"
   ]
  },
  {
   "cell_type": "code",
   "execution_count": 14,
   "metadata": {},
   "outputs": [
    {
     "name": "stderr",
     "output_type": "stream",
     "text": [
      "/Users/curtishammons/opt/anaconda3/lib/python3.8/site-packages/numpy/lib/function_base.py:2559: RuntimeWarning: invalid value encountered in true_divide\n",
      "  c /= stddev[:, None]\n",
      "/Users/curtishammons/opt/anaconda3/lib/python3.8/site-packages/numpy/lib/function_base.py:2560: RuntimeWarning: invalid value encountered in true_divide\n",
      "  c /= stddev[None, :]\n"
     ]
    },
    {
     "ename": "LinAlgError",
     "evalue": "Array must not contain infs or NaNs",
     "output_type": "error",
     "traceback": [
      "\u001b[0;31m---------------------------------------------------------------------------\u001b[0m",
      "\u001b[0;31mLinAlgError\u001b[0m                               Traceback (most recent call last)",
      "\u001b[0;32m<ipython-input-14-739d7f5577b7>\u001b[0m in \u001b[0;36m<module>\u001b[0;34m\u001b[0m\n\u001b[1;32m      1\u001b[0m \u001b[0mcorr\u001b[0m \u001b[0;34m=\u001b[0m \u001b[0mnp\u001b[0m\u001b[0;34m.\u001b[0m\u001b[0mcorrcoef\u001b[0m\u001b[0;34m(\u001b[0m\u001b[0mX\u001b[0m\u001b[0;34m,\u001b[0m \u001b[0mrowvar\u001b[0m\u001b[0;34m=\u001b[0m\u001b[0;36m0\u001b[0m\u001b[0;34m)\u001b[0m\u001b[0;34m\u001b[0m\u001b[0;34m\u001b[0m\u001b[0m\n\u001b[0;32m----> 2\u001b[0;31m \u001b[0meigenvalues\u001b[0m\u001b[0;34m,\u001b[0m \u001b[0meigenvectors\u001b[0m \u001b[0;34m=\u001b[0m \u001b[0mnp\u001b[0m\u001b[0;34m.\u001b[0m\u001b[0mlinalg\u001b[0m\u001b[0;34m.\u001b[0m\u001b[0meig\u001b[0m\u001b[0;34m(\u001b[0m\u001b[0mcorr\u001b[0m\u001b[0;34m)\u001b[0m\u001b[0;34m\u001b[0m\u001b[0;34m\u001b[0m\u001b[0m\n\u001b[0m\u001b[1;32m      3\u001b[0m \u001b[0;32mfor\u001b[0m \u001b[0mi\u001b[0m \u001b[0;32min\u001b[0m \u001b[0mrange\u001b[0m\u001b[0;34m(\u001b[0m\u001b[0mlen\u001b[0m\u001b[0;34m(\u001b[0m\u001b[0meigenvalues\u001b[0m\u001b[0;34m)\u001b[0m\u001b[0;34m)\u001b[0m\u001b[0;34m:\u001b[0m\u001b[0;34m\u001b[0m\u001b[0;34m\u001b[0m\u001b[0m\n\u001b[1;32m      4\u001b[0m     \u001b[0mprint\u001b[0m\u001b[0;34m(\u001b[0m\u001b[0mX\u001b[0m\u001b[0;34m.\u001b[0m\u001b[0mcolumns\u001b[0m\u001b[0;34m[\u001b[0m\u001b[0mi\u001b[0m\u001b[0;34m]\u001b[0m\u001b[0;34m,\u001b[0m \u001b[0meigenvalues\u001b[0m\u001b[0;34m[\u001b[0m\u001b[0mi\u001b[0m\u001b[0;34m]\u001b[0m\u001b[0;34m)\u001b[0m\u001b[0;34m\u001b[0m\u001b[0;34m\u001b[0m\u001b[0m\n\u001b[1;32m      5\u001b[0m \u001b[0;31m#     if eigenvalues[i] > 1:\u001b[0m\u001b[0;34m\u001b[0m\u001b[0;34m\u001b[0m\u001b[0;34m\u001b[0m\u001b[0m\n",
      "\u001b[0;32m<__array_function__ internals>\u001b[0m in \u001b[0;36meig\u001b[0;34m(*args, **kwargs)\u001b[0m\n",
      "\u001b[0;32m~/opt/anaconda3/lib/python3.8/site-packages/numpy/linalg/linalg.py\u001b[0m in \u001b[0;36meig\u001b[0;34m(a)\u001b[0m\n\u001b[1;32m   1316\u001b[0m     \u001b[0m_assert_stacked_2d\u001b[0m\u001b[0;34m(\u001b[0m\u001b[0ma\u001b[0m\u001b[0;34m)\u001b[0m\u001b[0;34m\u001b[0m\u001b[0;34m\u001b[0m\u001b[0m\n\u001b[1;32m   1317\u001b[0m     \u001b[0m_assert_stacked_square\u001b[0m\u001b[0;34m(\u001b[0m\u001b[0ma\u001b[0m\u001b[0;34m)\u001b[0m\u001b[0;34m\u001b[0m\u001b[0;34m\u001b[0m\u001b[0m\n\u001b[0;32m-> 1318\u001b[0;31m     \u001b[0m_assert_finite\u001b[0m\u001b[0;34m(\u001b[0m\u001b[0ma\u001b[0m\u001b[0;34m)\u001b[0m\u001b[0;34m\u001b[0m\u001b[0;34m\u001b[0m\u001b[0m\n\u001b[0m\u001b[1;32m   1319\u001b[0m     \u001b[0mt\u001b[0m\u001b[0;34m,\u001b[0m \u001b[0mresult_t\u001b[0m \u001b[0;34m=\u001b[0m \u001b[0m_commonType\u001b[0m\u001b[0;34m(\u001b[0m\u001b[0ma\u001b[0m\u001b[0;34m)\u001b[0m\u001b[0;34m\u001b[0m\u001b[0;34m\u001b[0m\u001b[0m\n\u001b[1;32m   1320\u001b[0m \u001b[0;34m\u001b[0m\u001b[0m\n",
      "\u001b[0;32m~/opt/anaconda3/lib/python3.8/site-packages/numpy/linalg/linalg.py\u001b[0m in \u001b[0;36m_assert_finite\u001b[0;34m(*arrays)\u001b[0m\n\u001b[1;32m    207\u001b[0m     \u001b[0;32mfor\u001b[0m \u001b[0ma\u001b[0m \u001b[0;32min\u001b[0m \u001b[0marrays\u001b[0m\u001b[0;34m:\u001b[0m\u001b[0;34m\u001b[0m\u001b[0;34m\u001b[0m\u001b[0m\n\u001b[1;32m    208\u001b[0m         \u001b[0;32mif\u001b[0m \u001b[0;32mnot\u001b[0m \u001b[0misfinite\u001b[0m\u001b[0;34m(\u001b[0m\u001b[0ma\u001b[0m\u001b[0;34m)\u001b[0m\u001b[0;34m.\u001b[0m\u001b[0mall\u001b[0m\u001b[0;34m(\u001b[0m\u001b[0;34m)\u001b[0m\u001b[0;34m:\u001b[0m\u001b[0;34m\u001b[0m\u001b[0;34m\u001b[0m\u001b[0m\n\u001b[0;32m--> 209\u001b[0;31m             \u001b[0;32mraise\u001b[0m \u001b[0mLinAlgError\u001b[0m\u001b[0;34m(\u001b[0m\u001b[0;34m\"Array must not contain infs or NaNs\"\u001b[0m\u001b[0;34m)\u001b[0m\u001b[0;34m\u001b[0m\u001b[0;34m\u001b[0m\u001b[0m\n\u001b[0m\u001b[1;32m    210\u001b[0m \u001b[0;34m\u001b[0m\u001b[0m\n\u001b[1;32m    211\u001b[0m \u001b[0;32mdef\u001b[0m \u001b[0m_is_empty_2d\u001b[0m\u001b[0;34m(\u001b[0m\u001b[0marr\u001b[0m\u001b[0;34m)\u001b[0m\u001b[0;34m:\u001b[0m\u001b[0;34m\u001b[0m\u001b[0;34m\u001b[0m\u001b[0m\n",
      "\u001b[0;31mLinAlgError\u001b[0m: Array must not contain infs or NaNs"
     ]
    }
   ],
   "source": [
    "corr = np.corrcoef(X, rowvar=0)\n",
    "eigenvalues, eigenvectors = np.linalg.eig(corr)\n",
    "for i in range(len(eigenvalues)):\n",
    "    print(X.columns[i], eigenvalues[i])\n",
    "#     if eigenvalues[i] > 1:\n",
    "#         print(X.columns[i])\n",
    "        "
   ]
  },
  {
   "cell_type": "code",
   "execution_count": null,
   "metadata": {},
   "outputs": [],
   "source": []
  },
  {
   "cell_type": "code",
   "execution_count": null,
   "metadata": {},
   "outputs": [],
   "source": []
  }
 ],
 "metadata": {
  "kernelspec": {
   "display_name": "Python 3",
   "language": "python",
   "name": "python3"
  },
  "language_info": {
   "codemirror_mode": {
    "name": "ipython",
    "version": 3
   },
   "file_extension": ".py",
   "mimetype": "text/x-python",
   "name": "python",
   "nbconvert_exporter": "python",
   "pygments_lexer": "ipython3",
   "version": "3.8.5"
  }
 },
 "nbformat": 4,
 "nbformat_minor": 4
}
