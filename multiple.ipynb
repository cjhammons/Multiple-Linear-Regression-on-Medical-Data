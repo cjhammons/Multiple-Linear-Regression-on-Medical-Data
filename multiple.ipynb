{
 "cells": [
  {
   "cell_type": "code",
   "execution_count": 1,
   "metadata": {},
   "outputs": [
    {
     "data": {
      "text/plain": [
       "'\\n!pip install numpy\\n!pip install pandas\\n!pip install matplotlib\\n!pip install sklearn\\n!pip install dmba\\n!pip install statsmodels\\n'"
      ]
     },
     "execution_count": 1,
     "metadata": {},
     "output_type": "execute_result"
    }
   ],
   "source": [
    "'''\n",
    "!pip install numpy\n",
    "!pip install pandas\n",
    "!pip install matplotlib\n",
    "!pip install sklearn\n",
    "!pip install dmba\n",
    "!pip install statsmodels\n",
    "'''"
   ]
  },
  {
   "cell_type": "code",
   "execution_count": 2,
   "metadata": {},
   "outputs": [
    {
     "name": "stdout",
     "output_type": "stream",
     "text": [
      "no display found. Using non-interactive Agg backend\n"
     ]
    }
   ],
   "source": [
    "import numpy as np\n",
    "import pandas as pd\n",
    "import matplotlib.pyplot as plt\n",
    "import matplotlib as mpl\n",
    "\n",
    "from sklearn import linear_model\n",
    "from sklearn.linear_model import LinearRegression\n",
    "\n",
    "from sklearn.metrics import r2_score\n",
    "import statsmodels.api as sm\n",
    "import statsmodels.formula.api as smf\n",
    "from statsmodels.stats.outliers_influence import OLSInfluence\n",
    "\n",
    "from dmba import stepwise_selection\n",
    "from dmba import AIC_score\n",
    "\n",
    "from dmba import backward_elimination\n",
    "\n",
    "\n",
    "\n",
    "%matplotlib inline"
   ]
  },
  {
   "cell_type": "code",
   "execution_count": null,
   "metadata": {},
   "outputs": [],
   "source": []
  },
  {
   "cell_type": "markdown",
   "metadata": {},
   "source": [
    "# Data Preparation\n",
    "\n",
    "We're working with a lot of categorical and boolean variables, we need to convert them to numeric so that our regression functions can properly injest them"
   ]
  },
  {
   "cell_type": "code",
   "execution_count": 3,
   "metadata": {},
   "outputs": [
    {
     "data": {
      "text/html": [
       "<div>\n",
       "<style scoped>\n",
       "    .dataframe tbody tr th:only-of-type {\n",
       "        vertical-align: middle;\n",
       "    }\n",
       "\n",
       "    .dataframe tbody tr th {\n",
       "        vertical-align: top;\n",
       "    }\n",
       "\n",
       "    .dataframe thead th {\n",
       "        text-align: right;\n",
       "    }\n",
       "</style>\n",
       "<table border=\"1\" class=\"dataframe\">\n",
       "  <thead>\n",
       "    <tr style=\"text-align: right;\">\n",
       "      <th></th>\n",
       "      <th>Age</th>\n",
       "      <th>Gender</th>\n",
       "      <th>HighBlood</th>\n",
       "      <th>Stroke</th>\n",
       "      <th>Complication_risk</th>\n",
       "      <th>Overweight</th>\n",
       "      <th>Arthritis</th>\n",
       "      <th>Diabetes</th>\n",
       "      <th>Hyperlipidemia</th>\n",
       "      <th>BackPain</th>\n",
       "      <th>Anxiety</th>\n",
       "      <th>Allergic_rhinitis</th>\n",
       "      <th>Reflux_esophagitis</th>\n",
       "      <th>Asthma</th>\n",
       "      <th>VitD_levels</th>\n",
       "      <th>Soft_drink</th>\n",
       "      <th>Services</th>\n",
       "      <th>Initial_days</th>\n",
       "      <th>vitD_supp</th>\n",
       "      <th>Initial_admin</th>\n",
       "    </tr>\n",
       "  </thead>\n",
       "  <tbody>\n",
       "    <tr>\n",
       "      <th>0</th>\n",
       "      <td>53</td>\n",
       "      <td>1</td>\n",
       "      <td>1</td>\n",
       "      <td>0</td>\n",
       "      <td>2</td>\n",
       "      <td>0</td>\n",
       "      <td>1</td>\n",
       "      <td>1</td>\n",
       "      <td>0</td>\n",
       "      <td>1</td>\n",
       "      <td>1</td>\n",
       "      <td>1</td>\n",
       "      <td>0</td>\n",
       "      <td>1</td>\n",
       "      <td>19.141466</td>\n",
       "      <td>0</td>\n",
       "      <td>0</td>\n",
       "      <td>10.585770</td>\n",
       "      <td>0</td>\n",
       "      <td>1</td>\n",
       "    </tr>\n",
       "    <tr>\n",
       "      <th>1</th>\n",
       "      <td>51</td>\n",
       "      <td>0</td>\n",
       "      <td>1</td>\n",
       "      <td>0</td>\n",
       "      <td>0</td>\n",
       "      <td>1</td>\n",
       "      <td>0</td>\n",
       "      <td>0</td>\n",
       "      <td>0</td>\n",
       "      <td>0</td>\n",
       "      <td>0</td>\n",
       "      <td>0</td>\n",
       "      <td>1</td>\n",
       "      <td>0</td>\n",
       "      <td>18.940352</td>\n",
       "      <td>0</td>\n",
       "      <td>2</td>\n",
       "      <td>15.129562</td>\n",
       "      <td>1</td>\n",
       "      <td>1</td>\n",
       "    </tr>\n",
       "    <tr>\n",
       "      <th>2</th>\n",
       "      <td>53</td>\n",
       "      <td>0</td>\n",
       "      <td>1</td>\n",
       "      <td>0</td>\n",
       "      <td>2</td>\n",
       "      <td>1</td>\n",
       "      <td>0</td>\n",
       "      <td>1</td>\n",
       "      <td>0</td>\n",
       "      <td>0</td>\n",
       "      <td>0</td>\n",
       "      <td>0</td>\n",
       "      <td>0</td>\n",
       "      <td>0</td>\n",
       "      <td>18.057507</td>\n",
       "      <td>0</td>\n",
       "      <td>0</td>\n",
       "      <td>4.772177</td>\n",
       "      <td>0</td>\n",
       "      <td>0</td>\n",
       "    </tr>\n",
       "    <tr>\n",
       "      <th>3</th>\n",
       "      <td>78</td>\n",
       "      <td>1</td>\n",
       "      <td>0</td>\n",
       "      <td>1</td>\n",
       "      <td>2</td>\n",
       "      <td>0</td>\n",
       "      <td>1</td>\n",
       "      <td>0</td>\n",
       "      <td>0</td>\n",
       "      <td>0</td>\n",
       "      <td>0</td>\n",
       "      <td>0</td>\n",
       "      <td>1</td>\n",
       "      <td>1</td>\n",
       "      <td>16.576858</td>\n",
       "      <td>0</td>\n",
       "      <td>0</td>\n",
       "      <td>1.714879</td>\n",
       "      <td>0</td>\n",
       "      <td>0</td>\n",
       "    </tr>\n",
       "    <tr>\n",
       "      <th>4</th>\n",
       "      <td>22</td>\n",
       "      <td>0</td>\n",
       "      <td>0</td>\n",
       "      <td>0</td>\n",
       "      <td>1</td>\n",
       "      <td>0</td>\n",
       "      <td>0</td>\n",
       "      <td>0</td>\n",
       "      <td>1</td>\n",
       "      <td>0</td>\n",
       "      <td>0</td>\n",
       "      <td>1</td>\n",
       "      <td>0</td>\n",
       "      <td>0</td>\n",
       "      <td>17.439069</td>\n",
       "      <td>1</td>\n",
       "      <td>1</td>\n",
       "      <td>1.254807</td>\n",
       "      <td>2</td>\n",
       "      <td>0</td>\n",
       "    </tr>\n",
       "  </tbody>\n",
       "</table>\n",
       "</div>"
      ],
      "text/plain": [
       "   Age  Gender  HighBlood  Stroke  Complication_risk  Overweight  Arthritis  \\\n",
       "0   53       1          1       0                  2           0          1   \n",
       "1   51       0          1       0                  0           1          0   \n",
       "2   53       0          1       0                  2           1          0   \n",
       "3   78       1          0       1                  2           0          1   \n",
       "4   22       0          0       0                  1           0          0   \n",
       "\n",
       "   Diabetes  Hyperlipidemia  BackPain  Anxiety  Allergic_rhinitis  \\\n",
       "0         1               0         1        1                  1   \n",
       "1         0               0         0        0                  0   \n",
       "2         1               0         0        0                  0   \n",
       "3         0               0         0        0                  0   \n",
       "4         0               1         0        0                  1   \n",
       "\n",
       "   Reflux_esophagitis  Asthma  VitD_levels  Soft_drink  Services  \\\n",
       "0                   0       1    19.141466           0         0   \n",
       "1                   1       0    18.940352           0         2   \n",
       "2                   0       0    18.057507           0         0   \n",
       "3                   1       1    16.576858           0         0   \n",
       "4                   0       0    17.439069           1         1   \n",
       "\n",
       "   Initial_days  vitD_supp  Initial_admin  \n",
       "0     10.585770          0              1  \n",
       "1     15.129562          1              1  \n",
       "2      4.772177          0              0  \n",
       "3      1.714879          0              0  \n",
       "4      1.254807          2              0  "
      ]
     },
     "execution_count": 3,
     "metadata": {},
     "output_type": "execute_result"
    }
   ],
   "source": [
    "df = pd.read_csv('data/medical_clean.csv')\n",
    "\n",
    "predictors = ['Age', 'Gender', 'HighBlood', 'Stroke', 'Complication_risk',\n",
    "             'Overweight', 'Arthritis', 'Diabetes', 'Hyperlipidemia', 'BackPain',\n",
    "             'Anxiety', 'Allergic_rhinitis', 'Reflux_esophagitis', 'Asthma', \n",
    "             'VitD_levels', 'Soft_drink', 'Services', 'Initial_days',\n",
    "             'vitD_supp', 'Initial_admin']\n",
    "\n",
    "\n",
    "\n",
    "df['Gender'] = pd.Categorical(df['Gender'])\n",
    "df['Gender'] = df['Gender'].cat.codes\n",
    "\n",
    "df['HighBlood'] = pd.Categorical(df['HighBlood'])\n",
    "df['HighBlood'] = df['HighBlood'].cat.codes\n",
    "\n",
    "df['Complication_risk'] = pd.Categorical(df['Complication_risk'])\n",
    "df['Complication_risk'] = df['Complication_risk'].cat.codes\n",
    "\n",
    "df['Stroke'] = pd.Categorical(df['Stroke'])\n",
    "df['Stroke'] = df['Stroke'].cat.codes\n",
    "\n",
    "df['Overweight'] = pd.Categorical(df['Overweight'])\n",
    "df['Overweight'] = df['Overweight'].cat.codes\n",
    "\n",
    "df['Arthritis'] = pd.Categorical(df['Arthritis'])\n",
    "df['Arthritis'] = df['Arthritis'].cat.codes\n",
    "\n",
    "df['Hyperlipidemia'] = pd.Categorical(df['Hyperlipidemia'])\n",
    "df['Hyperlipidemia'] = df['Hyperlipidemia'].cat.codes\n",
    "\n",
    "df['BackPain'] = pd.Categorical(df['BackPain'])\n",
    "df['BackPain'] = df['BackPain'].cat.codes\n",
    "\n",
    "df['Anxiety'] = pd.Categorical(df['Anxiety'])\n",
    "df['Anxiety'] = df['Anxiety'].cat.codes\n",
    "\n",
    "df['Allergic_rhinitis'] = pd.Categorical(df['Allergic_rhinitis'])\n",
    "df['Allergic_rhinitis'] = df['Allergic_rhinitis'].cat.codes\n",
    "\n",
    "df['Reflux_esophagitis'] = pd.Categorical(df['Reflux_esophagitis'])\n",
    "df['Reflux_esophagitis'] = df['Reflux_esophagitis'].cat.codes\n",
    "\n",
    "df['Asthma'] = pd.Categorical(df['Asthma'])\n",
    "df['Asthma'] = df['Asthma'].cat.codes\n",
    "\n",
    "df['Soft_drink'] = pd.Categorical(df['Soft_drink'])\n",
    "df['Soft_drink'] = df['Soft_drink'].cat.codes\n",
    "\n",
    "df['Services'] = pd.Categorical(df['Services'])\n",
    "df['Services'] = df['Services'].cat.codes\n",
    "\n",
    "df['Initial_admin'] = pd.Categorical(df['Initial_admin'])\n",
    "df['Initial_admin'] = df['Initial_admin'].cat.codes\n",
    "\n",
    "df['Diabetes'] = pd.Categorical(df['Diabetes'])\n",
    "df['Diabetes'] = df['Diabetes'].cat.codes\n",
    "\n",
    "outcome = 'ReAdmis'\n",
    "df[outcome] = pd.Categorical(df[outcome])\n",
    "df[outcome] = df[outcome].cat.codes\n",
    "\n",
    "\n",
    "X = df[predictors]\n",
    "y = df[outcome].values\n",
    "\n",
    "X.head()"
   ]
  },
  {
   "cell_type": "code",
   "execution_count": null,
   "metadata": {},
   "outputs": [],
   "source": []
  },
  {
   "cell_type": "code",
   "execution_count": 4,
   "metadata": {},
   "outputs": [],
   "source": [
    "# outcome = 'ReAdmis'\n",
    "# df[outcome] = pd.Categorical(df[outcome])\n",
    "# df[outcome] = df[outcome].cat.codes\n",
    "# df[outcome].head()\n",
    "\n",
    "# df.ReAdmis = pd.Categorical(df.ReAdmis)\n",
    "# df.ReAdmis = df.ReAdmis.cat.codes"
   ]
  },
  {
   "cell_type": "markdown",
   "metadata": {},
   "source": [
    "# Initial Regression"
   ]
  },
  {
   "cell_type": "code",
   "execution_count": 5,
   "metadata": {},
   "outputs": [
    {
     "data": {
      "text/plain": [
       "LinearRegression()"
      ]
     },
     "execution_count": 5,
     "metadata": {},
     "output_type": "execute_result"
    }
   ],
   "source": [
    "model = LinearRegression()\n",
    "model.fit(X, y)\n",
    "\n",
    "#model.summary()\n",
    "# print(f'Intercept: {model.intercept_:.3f}')\n",
    "# print(f'Coefficients:')\n",
    "# for name, coef in zip(predictors, model.coef_):\n",
    "#     print(f' {name}: {coef}')"
   ]
  },
  {
   "cell_type": "markdown",
   "metadata": {},
   "source": [
    "## Assessing the model's accuracy"
   ]
  },
  {
   "cell_type": "code",
   "execution_count": 6,
   "metadata": {},
   "outputs": [
    {
     "name": "stdout",
     "output_type": "stream",
     "text": [
      "r2: 0.7245\n"
     ]
    }
   ],
   "source": [
    "from sklearn.metrics import r2_score\n",
    "\n",
    "fitted = model.predict(X)\n",
    "r2 = r2_score(y, fitted)\n",
    "print(f'r2: {r2:.4f}')"
   ]
  },
  {
   "cell_type": "code",
   "execution_count": 7,
   "metadata": {},
   "outputs": [
    {
     "name": "stdout",
     "output_type": "stream",
     "text": [
      "Baseline R2: 0.725\n",
      " 0.723 Initial_days\n",
      " 0.000 Arthritis\n",
      " 0.000 HighBlood\n",
      " 0.000 Anxiety\n",
      " 0.000 Hyperlipidemia\n",
      " 0.000 Allergic_rhinitis\n",
      " 0.000 VitD_levels\n",
      " 0.000 Complication_risk\n",
      " 0.000 Asthma\n",
      " 0.000 Soft_drink\n",
      " 0.000 Gender\n",
      " 0.000 Reflux_esophagitis\n",
      " 0.000 Initial_admin\n",
      " 0.000 vitD_supp\n",
      " 0.000 Stroke\n",
      " 0.000 Age\n",
      " 0.000 BackPain\n",
      " 0.000 Diabetes\n",
      " 0.000 Services\n",
      " 0.000 Overweight\n"
     ]
    }
   ],
   "source": [
    "\n",
    "model = linear_model.LinearRegression(normalize=False, fit_intercept=True)\n",
    "\n",
    "def r2_est(X, y):\n",
    "    model.fit(X, y)\n",
    "    fitted = model.predict(X)\n",
    "    return r2_score(y, fitted)\n",
    "\n",
    "print ('Baseline R2: %0.3f' %  r2_est(X,y))\n",
    "\n",
    "r2_impact = list()\n",
    "for i in range(len(X.columns)):\n",
    "    selection = [j for j in range(len(X.columns)) if i != j]\n",
    "    r2_impact.append(((r2_est(X, y) - r2_est(X.values[:,selection], y)), X.columns[i]))\n",
    "    \n",
    "for imp, varname in sorted(r2_impact, reverse=True):\n",
    "    print('%6.3f %s' % (imp, varname))"
   ]
  },
  {
   "cell_type": "code",
   "execution_count": 8,
   "metadata": {},
   "outputs": [],
   "source": [
    "# Code based on page Chapter 4: \"Regression and Prediction\" from \"Practical Statistics for Data Scientists\"\n",
    "\n",
    "\n",
    "#X = pd.get_dummies(df[predictors], drop_first=True)\n",
    "#y = df[outcome]"
   ]
  },
  {
   "cell_type": "code",
   "execution_count": null,
   "metadata": {},
   "outputs": [],
   "source": []
  },
  {
   "cell_type": "code",
   "execution_count": 9,
   "metadata": {},
   "outputs": [
    {
     "data": {
      "text/plain": [
       "\"\\nfrom dmba import forward_selection\\n\\nX = pd.get_dummies(df[predictors], drop_first=True)\\ny = df[outcome]\\n\\ndef train_model(variables):\\n    if len(variables) == 0:\\n        return None\\n    model = LinearRegression()\\n    model.fit(X[variables], y)\\n    return model\\n\\ndef score_model(model, variables):\\n    if len(variables) == 0:\\n        return AIC_score(y, [y.mean()] * len(y), model, df=1)\\n    return AIC_score(y, model.predict(X[variables]), model)\\n\\n\\ndef score_model(model, variables):\\n    if len(variables) == 0:\\n        return r2_score(y, [y.mean()] * len(y))\\n    fitted = model.predict(X[variables])\\n    return r2_score(y, fitted)\\n\\nbest_model, best_variables = backward_elimination(X.columns, train_model, score_model, verbose=True)\\n\\n\\n\\nreduced_predictors = []\\n\\nprint()\\nprint(f'Intercept: {best_model.intercept_:.3f}')\\nprint('Coefficients:')\\nfor name, coef in zip(best_variables, best_model.coef_):\\n    reduced_predictors.append(name)\\n    print(f' {name}: {coef}')\\n\""
      ]
     },
     "execution_count": 9,
     "metadata": {},
     "output_type": "execute_result"
    }
   ],
   "source": [
    "'''\n",
    "from dmba import forward_selection\n",
    "\n",
    "X = pd.get_dummies(df[predictors], drop_first=True)\n",
    "y = df[outcome]\n",
    "\n",
    "def train_model(variables):\n",
    "    if len(variables) == 0:\n",
    "        return None\n",
    "    model = LinearRegression()\n",
    "    model.fit(X[variables], y)\n",
    "    return model\n",
    "\n",
    "def score_model(model, variables):\n",
    "    if len(variables) == 0:\n",
    "        return AIC_score(y, [y.mean()] * len(y), model, df=1)\n",
    "    return AIC_score(y, model.predict(X[variables]), model)\n",
    "\n",
    "\n",
    "def score_model(model, variables):\n",
    "    if len(variables) == 0:\n",
    "        return r2_score(y, [y.mean()] * len(y))\n",
    "    fitted = model.predict(X[variables])\n",
    "    return r2_score(y, fitted)\n",
    "\n",
    "best_model, best_variables = backward_elimination(X.columns, train_model, score_model, verbose=True)\n",
    "\n",
    "\n",
    "\n",
    "reduced_predictors = []\n",
    "\n",
    "print()\n",
    "print(f'Intercept: {best_model.intercept_:.3f}')\n",
    "print('Coefficients:')\n",
    "for name, coef in zip(best_variables, best_model.coef_):\n",
    "    reduced_predictors.append(name)\n",
    "    print(f' {name}: {coef}')\n",
    "'''"
   ]
  },
  {
   "cell_type": "markdown",
   "metadata": {},
   "source": [
    "Now we rebuild the model with the reduced list of predictors"
   ]
  },
  {
   "cell_type": "code",
   "execution_count": 10,
   "metadata": {},
   "outputs": [
    {
     "data": {
      "text/plain": [
       "\"\\nmodel = LinearRegression()\\nmodel.fit(df[reduced_predictors], df[outcome])\\n\\nprint(f'Intercept: {model.intercept_:.3f}')\\nprint(f'Coefficients:')\\nfor name, coef in zip(reduced_predictors, model.coef_):\\n    print(f' {name}: {coef}')\\n    \""
      ]
     },
     "execution_count": 10,
     "metadata": {},
     "output_type": "execute_result"
    }
   ],
   "source": [
    "'''\n",
    "model = LinearRegression()\n",
    "model.fit(df[reduced_predictors], df[outcome])\n",
    "\n",
    "print(f'Intercept: {model.intercept_:.3f}')\n",
    "print(f'Coefficients:')\n",
    "for name, coef in zip(reduced_predictors, model.coef_):\n",
    "    print(f' {name}: {coef}')\n",
    "    '''"
   ]
  },
  {
   "cell_type": "code",
   "execution_count": 11,
   "metadata": {},
   "outputs": [
    {
     "data": {
      "text/plain": [
       "\"fitted = model.predict(df[reduced_predictors])\\nr2 = r2_score(df[outcome], fitted)\\nprint(f'r2: {r2:.4f}')\\n\\n#aic = AIC_score(y, fitted)\""
      ]
     },
     "execution_count": 11,
     "metadata": {},
     "output_type": "execute_result"
    }
   ],
   "source": [
    "\n",
    "'''fitted = model.predict(df[reduced_predictors])\n",
    "r2 = r2_score(df[outcome], fitted)\n",
    "print(f'r2: {r2:.4f}')\n",
    "\n",
    "#aic = AIC_score(y, fitted)'''"
   ]
  },
  {
   "cell_type": "code",
   "execution_count": null,
   "metadata": {},
   "outputs": [],
   "source": []
  },
  {
   "cell_type": "code",
   "execution_count": 12,
   "metadata": {},
   "outputs": [
    {
     "name": "stdout",
     "output_type": "stream",
     "text": [
      "Baseline R2: 0.001\n"
     ]
    }
   ],
   "source": [
    "\n",
    "#adapted from D208 lesson 3.3\n",
    "X = df[predictors]\n",
    "y = df[outcome]\n",
    "del X['Initial_days']\n",
    "predictors.remove('Initial_days')\n",
    "\n",
    "model = linear_model.LinearRegression(normalize=False, fit_intercept=True)\n",
    "\n",
    "def r2_est(X, y):\n",
    "    model.fit(X, y)\n",
    "    fitted = model.predict(X)\n",
    "    return r2_score(y, fitted)\n",
    "\n",
    "print ('Baseline R2: %0.3f' %  r2_est(X,y))"
   ]
  },
  {
   "cell_type": "code",
   "execution_count": 13,
   "metadata": {},
   "outputs": [
    {
     "name": "stdout",
     "output_type": "stream",
     "text": [
      " 0.000 Asthma\n",
      " 0.000 Age\n",
      " 0.000 BackPain\n",
      " 0.000 Gender\n",
      " 0.000 vitD_supp\n",
      " 0.000 Overweight\n",
      " 0.000 Soft_drink\n",
      " 0.000 Arthritis\n",
      " 0.000 Reflux_esophagitis\n",
      " 0.000 Services\n",
      " 0.000 Allergic_rhinitis\n",
      " 0.000 VitD_levels\n",
      " 0.000 Complication_risk\n",
      " 0.000 Hyperlipidemia\n",
      " 0.000 Diabetes\n",
      " 0.000 HighBlood\n",
      " 0.000 Anxiety\n",
      " 0.000 Stroke\n",
      " 0.000 Initial_admin\n"
     ]
    }
   ],
   "source": [
    "\n",
    "\n",
    "r2_impact = list()\n",
    "for i in range(len(predictors)):\n",
    "    selection = [j for j in range(len(predictors)) if i != j]\n",
    "    r2_impact.append(((r2_est(X, y) - r2_est(X.values[:,selection], y)), predictors[i]))\n",
    "    \n",
    "for imp, varname in sorted(r2_impact, reverse=True):\n",
    "    print('%6.3f %s' % (imp, varname))"
   ]
  },
  {
   "cell_type": "code",
   "execution_count": null,
   "metadata": {},
   "outputs": [],
   "source": []
  }
 ],
 "metadata": {
  "kernelspec": {
   "display_name": "Python 3",
   "language": "python",
   "name": "python3"
  },
  "language_info": {
   "codemirror_mode": {
    "name": "ipython",
    "version": 3
   },
   "file_extension": ".py",
   "mimetype": "text/x-python",
   "name": "python",
   "nbconvert_exporter": "python",
   "pygments_lexer": "ipython3",
   "version": "3.8.5"
  }
 },
 "nbformat": 4,
 "nbformat_minor": 4
}
