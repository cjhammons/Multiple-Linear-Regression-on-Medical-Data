{
 "cells": [
  {
   "cell_type": "code",
   "execution_count": 1,
   "metadata": {},
   "outputs": [
    {
     "name": "stdout",
     "output_type": "stream",
     "text": [
      "Requirement already satisfied: numpy in /Users/curtishammons/opt/anaconda3/lib/python3.8/site-packages (1.19.2)\n",
      "Requirement already satisfied: pandas in /Users/curtishammons/opt/anaconda3/lib/python3.8/site-packages (1.1.3)\n",
      "Requirement already satisfied: python-dateutil>=2.7.3 in /Users/curtishammons/opt/anaconda3/lib/python3.8/site-packages (from pandas) (2.8.1)\n",
      "Requirement already satisfied: pytz>=2017.2 in /Users/curtishammons/opt/anaconda3/lib/python3.8/site-packages (from pandas) (2020.5)\n",
      "Requirement already satisfied: numpy>=1.15.4 in /Users/curtishammons/opt/anaconda3/lib/python3.8/site-packages (from pandas) (1.19.2)\n",
      "Requirement already satisfied: six>=1.5 in /Users/curtishammons/opt/anaconda3/lib/python3.8/site-packages (from python-dateutil>=2.7.3->pandas) (1.15.0)\n",
      "Requirement already satisfied: matplotlib in /Users/curtishammons/opt/anaconda3/lib/python3.8/site-packages (3.3.2)\n",
      "Requirement already satisfied: pyparsing!=2.0.4,!=2.1.2,!=2.1.6,>=2.0.3 in /Users/curtishammons/opt/anaconda3/lib/python3.8/site-packages (from matplotlib) (2.4.7)\n",
      "Requirement already satisfied: pillow>=6.2.0 in /Users/curtishammons/opt/anaconda3/lib/python3.8/site-packages (from matplotlib) (8.1.0)\n",
      "Requirement already satisfied: kiwisolver>=1.0.1 in /Users/curtishammons/opt/anaconda3/lib/python3.8/site-packages (from matplotlib) (1.3.0)\n",
      "Requirement already satisfied: numpy>=1.15 in /Users/curtishammons/opt/anaconda3/lib/python3.8/site-packages (from matplotlib) (1.19.2)\n",
      "Requirement already satisfied: python-dateutil>=2.1 in /Users/curtishammons/opt/anaconda3/lib/python3.8/site-packages (from matplotlib) (2.8.1)\n",
      "Requirement already satisfied: certifi>=2020.06.20 in /Users/curtishammons/opt/anaconda3/lib/python3.8/site-packages (from matplotlib) (2020.6.20)\n",
      "Requirement already satisfied: cycler>=0.10 in /Users/curtishammons/opt/anaconda3/lib/python3.8/site-packages (from matplotlib) (0.10.0)\n",
      "Requirement already satisfied: six>=1.5 in /Users/curtishammons/opt/anaconda3/lib/python3.8/site-packages (from python-dateutil>=2.1->matplotlib) (1.15.0)\n",
      "Requirement already satisfied: sklearn in /Users/curtishammons/opt/anaconda3/lib/python3.8/site-packages (0.0)\n",
      "Requirement already satisfied: scikit-learn in /Users/curtishammons/opt/anaconda3/lib/python3.8/site-packages (from sklearn) (0.23.2)\n",
      "Requirement already satisfied: scipy>=0.19.1 in /Users/curtishammons/opt/anaconda3/lib/python3.8/site-packages (from scikit-learn->sklearn) (1.5.2)\n",
      "Requirement already satisfied: numpy>=1.13.3 in /Users/curtishammons/opt/anaconda3/lib/python3.8/site-packages (from scikit-learn->sklearn) (1.19.2)\n",
      "Requirement already satisfied: joblib>=0.11 in /Users/curtishammons/opt/anaconda3/lib/python3.8/site-packages (from scikit-learn->sklearn) (0.17.0)\n",
      "Requirement already satisfied: threadpoolctl>=2.0.0 in /Users/curtishammons/opt/anaconda3/lib/python3.8/site-packages (from scikit-learn->sklearn) (2.1.0)\n",
      "Requirement already satisfied: dmba in /Users/curtishammons/opt/anaconda3/lib/python3.8/site-packages (0.0.18)\n",
      "Requirement already satisfied: statsmodels in /Users/curtishammons/opt/anaconda3/lib/python3.8/site-packages (0.12.0)\n",
      "Requirement already satisfied: scipy>=1.1 in /Users/curtishammons/opt/anaconda3/lib/python3.8/site-packages (from statsmodels) (1.5.2)\n",
      "Requirement already satisfied: numpy>=1.15 in /Users/curtishammons/opt/anaconda3/lib/python3.8/site-packages (from statsmodels) (1.19.2)\n",
      "Requirement already satisfied: patsy>=0.5 in /Users/curtishammons/opt/anaconda3/lib/python3.8/site-packages (from statsmodels) (0.5.1)\n",
      "Requirement already satisfied: pandas>=0.21 in /Users/curtishammons/opt/anaconda3/lib/python3.8/site-packages (from statsmodels) (1.1.3)\n",
      "Requirement already satisfied: six in /Users/curtishammons/opt/anaconda3/lib/python3.8/site-packages (from patsy>=0.5->statsmodels) (1.15.0)\n",
      "Requirement already satisfied: python-dateutil>=2.7.3 in /Users/curtishammons/opt/anaconda3/lib/python3.8/site-packages (from pandas>=0.21->statsmodels) (2.8.1)\n",
      "Requirement already satisfied: pytz>=2017.2 in /Users/curtishammons/opt/anaconda3/lib/python3.8/site-packages (from pandas>=0.21->statsmodels) (2020.5)\n"
     ]
    }
   ],
   "source": [
    "!pip install numpy\n",
    "!pip install pandas\n",
    "!pip install matplotlib\n",
    "!pip install sklearn\n",
    "!pip install dmba\n",
    "!pip install statsmodels\n"
   ]
  },
  {
   "cell_type": "code",
   "execution_count": 10,
   "metadata": {},
   "outputs": [],
   "source": [
    "import pandas as pd\n",
    "import numpy as np\n",
    "\n",
    "df = pd.read_csv(\"data/medical_clean.csv\")"
   ]
  },
  {
   "cell_type": "code",
   "execution_count": 11,
   "metadata": {},
   "outputs": [
    {
     "data": {
      "text/html": [
       "<div>\n",
       "<style scoped>\n",
       "    .dataframe tbody tr th:only-of-type {\n",
       "        vertical-align: middle;\n",
       "    }\n",
       "\n",
       "    .dataframe tbody tr th {\n",
       "        vertical-align: top;\n",
       "    }\n",
       "\n",
       "    .dataframe thead th {\n",
       "        text-align: right;\n",
       "    }\n",
       "</style>\n",
       "<table border=\"1\" class=\"dataframe\">\n",
       "  <thead>\n",
       "    <tr style=\"text-align: right;\">\n",
       "      <th></th>\n",
       "      <th>CaseOrder</th>\n",
       "      <th>Zip</th>\n",
       "      <th>Lat</th>\n",
       "      <th>Lng</th>\n",
       "      <th>Population</th>\n",
       "      <th>Children</th>\n",
       "      <th>Age</th>\n",
       "      <th>Income</th>\n",
       "      <th>VitD_levels</th>\n",
       "      <th>Doc_visits</th>\n",
       "      <th>...</th>\n",
       "      <th>TotalCharge</th>\n",
       "      <th>Additional_charges</th>\n",
       "      <th>Item1</th>\n",
       "      <th>Item2</th>\n",
       "      <th>Item3</th>\n",
       "      <th>Item4</th>\n",
       "      <th>Item5</th>\n",
       "      <th>Item6</th>\n",
       "      <th>Item7</th>\n",
       "      <th>Item8</th>\n",
       "    </tr>\n",
       "  </thead>\n",
       "  <tbody>\n",
       "    <tr>\n",
       "      <th>count</th>\n",
       "      <td>10000.00000</td>\n",
       "      <td>10000.000000</td>\n",
       "      <td>10000.000000</td>\n",
       "      <td>10000.000000</td>\n",
       "      <td>10000.000000</td>\n",
       "      <td>10000.000000</td>\n",
       "      <td>10000.000000</td>\n",
       "      <td>10000.000000</td>\n",
       "      <td>10000.000000</td>\n",
       "      <td>10000.000000</td>\n",
       "      <td>...</td>\n",
       "      <td>10000.000000</td>\n",
       "      <td>10000.000000</td>\n",
       "      <td>10000.000000</td>\n",
       "      <td>10000.000000</td>\n",
       "      <td>10000.000000</td>\n",
       "      <td>10000.000000</td>\n",
       "      <td>10000.000000</td>\n",
       "      <td>10000.000000</td>\n",
       "      <td>10000.000000</td>\n",
       "      <td>10000.000000</td>\n",
       "    </tr>\n",
       "    <tr>\n",
       "      <th>mean</th>\n",
       "      <td>5000.50000</td>\n",
       "      <td>50159.323900</td>\n",
       "      <td>38.751099</td>\n",
       "      <td>-91.243080</td>\n",
       "      <td>9965.253800</td>\n",
       "      <td>2.097200</td>\n",
       "      <td>53.511700</td>\n",
       "      <td>40490.495160</td>\n",
       "      <td>17.964262</td>\n",
       "      <td>5.012200</td>\n",
       "      <td>...</td>\n",
       "      <td>5312.172769</td>\n",
       "      <td>12934.528587</td>\n",
       "      <td>3.518800</td>\n",
       "      <td>3.506700</td>\n",
       "      <td>3.511100</td>\n",
       "      <td>3.515100</td>\n",
       "      <td>3.496900</td>\n",
       "      <td>3.522500</td>\n",
       "      <td>3.494000</td>\n",
       "      <td>3.509700</td>\n",
       "    </tr>\n",
       "    <tr>\n",
       "      <th>std</th>\n",
       "      <td>2886.89568</td>\n",
       "      <td>27469.588208</td>\n",
       "      <td>5.403085</td>\n",
       "      <td>15.205998</td>\n",
       "      <td>14824.758614</td>\n",
       "      <td>2.163659</td>\n",
       "      <td>20.638538</td>\n",
       "      <td>28521.153293</td>\n",
       "      <td>2.017231</td>\n",
       "      <td>1.045734</td>\n",
       "      <td>...</td>\n",
       "      <td>2180.393838</td>\n",
       "      <td>6542.601544</td>\n",
       "      <td>1.031966</td>\n",
       "      <td>1.034825</td>\n",
       "      <td>1.032755</td>\n",
       "      <td>1.036282</td>\n",
       "      <td>1.030192</td>\n",
       "      <td>1.032376</td>\n",
       "      <td>1.021405</td>\n",
       "      <td>1.042312</td>\n",
       "    </tr>\n",
       "    <tr>\n",
       "      <th>min</th>\n",
       "      <td>1.00000</td>\n",
       "      <td>610.000000</td>\n",
       "      <td>17.967190</td>\n",
       "      <td>-174.209700</td>\n",
       "      <td>0.000000</td>\n",
       "      <td>0.000000</td>\n",
       "      <td>18.000000</td>\n",
       "      <td>154.080000</td>\n",
       "      <td>9.806483</td>\n",
       "      <td>1.000000</td>\n",
       "      <td>...</td>\n",
       "      <td>1938.312067</td>\n",
       "      <td>3125.703000</td>\n",
       "      <td>1.000000</td>\n",
       "      <td>1.000000</td>\n",
       "      <td>1.000000</td>\n",
       "      <td>1.000000</td>\n",
       "      <td>1.000000</td>\n",
       "      <td>1.000000</td>\n",
       "      <td>1.000000</td>\n",
       "      <td>1.000000</td>\n",
       "    </tr>\n",
       "    <tr>\n",
       "      <th>25%</th>\n",
       "      <td>2500.75000</td>\n",
       "      <td>27592.000000</td>\n",
       "      <td>35.255120</td>\n",
       "      <td>-97.352982</td>\n",
       "      <td>694.750000</td>\n",
       "      <td>0.000000</td>\n",
       "      <td>36.000000</td>\n",
       "      <td>19598.775000</td>\n",
       "      <td>16.626439</td>\n",
       "      <td>4.000000</td>\n",
       "      <td>...</td>\n",
       "      <td>3179.374015</td>\n",
       "      <td>7986.487755</td>\n",
       "      <td>3.000000</td>\n",
       "      <td>3.000000</td>\n",
       "      <td>3.000000</td>\n",
       "      <td>3.000000</td>\n",
       "      <td>3.000000</td>\n",
       "      <td>3.000000</td>\n",
       "      <td>3.000000</td>\n",
       "      <td>3.000000</td>\n",
       "    </tr>\n",
       "    <tr>\n",
       "      <th>50%</th>\n",
       "      <td>5000.50000</td>\n",
       "      <td>50207.000000</td>\n",
       "      <td>39.419355</td>\n",
       "      <td>-88.397230</td>\n",
       "      <td>2769.000000</td>\n",
       "      <td>1.000000</td>\n",
       "      <td>53.000000</td>\n",
       "      <td>33768.420000</td>\n",
       "      <td>17.951122</td>\n",
       "      <td>5.000000</td>\n",
       "      <td>...</td>\n",
       "      <td>5213.952000</td>\n",
       "      <td>11573.977735</td>\n",
       "      <td>4.000000</td>\n",
       "      <td>3.000000</td>\n",
       "      <td>4.000000</td>\n",
       "      <td>4.000000</td>\n",
       "      <td>3.000000</td>\n",
       "      <td>4.000000</td>\n",
       "      <td>3.000000</td>\n",
       "      <td>3.000000</td>\n",
       "    </tr>\n",
       "    <tr>\n",
       "      <th>75%</th>\n",
       "      <td>7500.25000</td>\n",
       "      <td>72411.750000</td>\n",
       "      <td>42.044175</td>\n",
       "      <td>-80.438050</td>\n",
       "      <td>13945.000000</td>\n",
       "      <td>3.000000</td>\n",
       "      <td>71.000000</td>\n",
       "      <td>54296.402500</td>\n",
       "      <td>19.347963</td>\n",
       "      <td>6.000000</td>\n",
       "      <td>...</td>\n",
       "      <td>7459.699750</td>\n",
       "      <td>15626.490000</td>\n",
       "      <td>4.000000</td>\n",
       "      <td>4.000000</td>\n",
       "      <td>4.000000</td>\n",
       "      <td>4.000000</td>\n",
       "      <td>4.000000</td>\n",
       "      <td>4.000000</td>\n",
       "      <td>4.000000</td>\n",
       "      <td>4.000000</td>\n",
       "    </tr>\n",
       "    <tr>\n",
       "      <th>max</th>\n",
       "      <td>10000.00000</td>\n",
       "      <td>99929.000000</td>\n",
       "      <td>70.560990</td>\n",
       "      <td>-65.290170</td>\n",
       "      <td>122814.000000</td>\n",
       "      <td>10.000000</td>\n",
       "      <td>89.000000</td>\n",
       "      <td>207249.100000</td>\n",
       "      <td>26.394449</td>\n",
       "      <td>9.000000</td>\n",
       "      <td>...</td>\n",
       "      <td>9180.728000</td>\n",
       "      <td>30566.070000</td>\n",
       "      <td>8.000000</td>\n",
       "      <td>7.000000</td>\n",
       "      <td>8.000000</td>\n",
       "      <td>7.000000</td>\n",
       "      <td>7.000000</td>\n",
       "      <td>7.000000</td>\n",
       "      <td>7.000000</td>\n",
       "      <td>7.000000</td>\n",
       "    </tr>\n",
       "  </tbody>\n",
       "</table>\n",
       "<p>8 rows × 23 columns</p>\n",
       "</div>"
      ],
      "text/plain": [
       "         CaseOrder           Zip           Lat           Lng     Population  \\\n",
       "count  10000.00000  10000.000000  10000.000000  10000.000000   10000.000000   \n",
       "mean    5000.50000  50159.323900     38.751099    -91.243080    9965.253800   \n",
       "std     2886.89568  27469.588208      5.403085     15.205998   14824.758614   \n",
       "min        1.00000    610.000000     17.967190   -174.209700       0.000000   \n",
       "25%     2500.75000  27592.000000     35.255120    -97.352982     694.750000   \n",
       "50%     5000.50000  50207.000000     39.419355    -88.397230    2769.000000   \n",
       "75%     7500.25000  72411.750000     42.044175    -80.438050   13945.000000   \n",
       "max    10000.00000  99929.000000     70.560990    -65.290170  122814.000000   \n",
       "\n",
       "           Children           Age         Income   VitD_levels    Doc_visits  \\\n",
       "count  10000.000000  10000.000000   10000.000000  10000.000000  10000.000000   \n",
       "mean       2.097200     53.511700   40490.495160     17.964262      5.012200   \n",
       "std        2.163659     20.638538   28521.153293      2.017231      1.045734   \n",
       "min        0.000000     18.000000     154.080000      9.806483      1.000000   \n",
       "25%        0.000000     36.000000   19598.775000     16.626439      4.000000   \n",
       "50%        1.000000     53.000000   33768.420000     17.951122      5.000000   \n",
       "75%        3.000000     71.000000   54296.402500     19.347963      6.000000   \n",
       "max       10.000000     89.000000  207249.100000     26.394449      9.000000   \n",
       "\n",
       "       ...   TotalCharge  Additional_charges         Item1         Item2  \\\n",
       "count  ...  10000.000000        10000.000000  10000.000000  10000.000000   \n",
       "mean   ...   5312.172769        12934.528587      3.518800      3.506700   \n",
       "std    ...   2180.393838         6542.601544      1.031966      1.034825   \n",
       "min    ...   1938.312067         3125.703000      1.000000      1.000000   \n",
       "25%    ...   3179.374015         7986.487755      3.000000      3.000000   \n",
       "50%    ...   5213.952000        11573.977735      4.000000      3.000000   \n",
       "75%    ...   7459.699750        15626.490000      4.000000      4.000000   \n",
       "max    ...   9180.728000        30566.070000      8.000000      7.000000   \n",
       "\n",
       "              Item3         Item4         Item5         Item6         Item7  \\\n",
       "count  10000.000000  10000.000000  10000.000000  10000.000000  10000.000000   \n",
       "mean       3.511100      3.515100      3.496900      3.522500      3.494000   \n",
       "std        1.032755      1.036282      1.030192      1.032376      1.021405   \n",
       "min        1.000000      1.000000      1.000000      1.000000      1.000000   \n",
       "25%        3.000000      3.000000      3.000000      3.000000      3.000000   \n",
       "50%        4.000000      4.000000      3.000000      4.000000      3.000000   \n",
       "75%        4.000000      4.000000      4.000000      4.000000      4.000000   \n",
       "max        8.000000      7.000000      7.000000      7.000000      7.000000   \n",
       "\n",
       "              Item8  \n",
       "count  10000.000000  \n",
       "mean       3.509700  \n",
       "std        1.042312  \n",
       "min        1.000000  \n",
       "25%        3.000000  \n",
       "50%        3.000000  \n",
       "75%        4.000000  \n",
       "max        7.000000  \n",
       "\n",
       "[8 rows x 23 columns]"
      ]
     },
     "execution_count": 11,
     "metadata": {},
     "output_type": "execute_result"
    }
   ],
   "source": [
    "df_num = df.select_dtypes(include=np.number)\n",
    "df_num.describe()"
   ]
  },
  {
   "cell_type": "code",
   "execution_count": 12,
   "metadata": {},
   "outputs": [
    {
     "data": {
      "text/html": [
       "<div>\n",
       "<style scoped>\n",
       "    .dataframe tbody tr th:only-of-type {\n",
       "        vertical-align: middle;\n",
       "    }\n",
       "\n",
       "    .dataframe tbody tr th {\n",
       "        vertical-align: top;\n",
       "    }\n",
       "\n",
       "    .dataframe thead th {\n",
       "        text-align: right;\n",
       "    }\n",
       "</style>\n",
       "<table border=\"1\" class=\"dataframe\">\n",
       "  <thead>\n",
       "    <tr style=\"text-align: right;\">\n",
       "      <th></th>\n",
       "      <th>Population</th>\n",
       "      <th>Children</th>\n",
       "      <th>Age</th>\n",
       "      <th>Income</th>\n",
       "      <th>VitD_levels</th>\n",
       "      <th>Doc_visits</th>\n",
       "      <th>Full_meals_eaten</th>\n",
       "      <th>vitD_supp</th>\n",
       "      <th>Initial_days</th>\n",
       "      <th>TotalCharge</th>\n",
       "      <th>Additional_charges</th>\n",
       "      <th>Item1</th>\n",
       "      <th>Item2</th>\n",
       "      <th>Item3</th>\n",
       "      <th>Item4</th>\n",
       "      <th>Item5</th>\n",
       "      <th>Item6</th>\n",
       "      <th>Item7</th>\n",
       "      <th>Item8</th>\n",
       "    </tr>\n",
       "  </thead>\n",
       "  <tbody>\n",
       "    <tr>\n",
       "      <th>0</th>\n",
       "      <td>2951</td>\n",
       "      <td>1</td>\n",
       "      <td>53</td>\n",
       "      <td>86575.93</td>\n",
       "      <td>19.141466</td>\n",
       "      <td>6</td>\n",
       "      <td>0</td>\n",
       "      <td>0</td>\n",
       "      <td>10.585770</td>\n",
       "      <td>3726.702860</td>\n",
       "      <td>17939.403420</td>\n",
       "      <td>3</td>\n",
       "      <td>3</td>\n",
       "      <td>2</td>\n",
       "      <td>2</td>\n",
       "      <td>4</td>\n",
       "      <td>3</td>\n",
       "      <td>3</td>\n",
       "      <td>4</td>\n",
       "    </tr>\n",
       "    <tr>\n",
       "      <th>1</th>\n",
       "      <td>11303</td>\n",
       "      <td>3</td>\n",
       "      <td>51</td>\n",
       "      <td>46805.99</td>\n",
       "      <td>18.940352</td>\n",
       "      <td>4</td>\n",
       "      <td>2</td>\n",
       "      <td>1</td>\n",
       "      <td>15.129562</td>\n",
       "      <td>4193.190458</td>\n",
       "      <td>17612.998120</td>\n",
       "      <td>3</td>\n",
       "      <td>4</td>\n",
       "      <td>3</td>\n",
       "      <td>4</td>\n",
       "      <td>4</td>\n",
       "      <td>4</td>\n",
       "      <td>3</td>\n",
       "      <td>3</td>\n",
       "    </tr>\n",
       "    <tr>\n",
       "      <th>2</th>\n",
       "      <td>17125</td>\n",
       "      <td>3</td>\n",
       "      <td>53</td>\n",
       "      <td>14370.14</td>\n",
       "      <td>18.057507</td>\n",
       "      <td>4</td>\n",
       "      <td>1</td>\n",
       "      <td>0</td>\n",
       "      <td>4.772177</td>\n",
       "      <td>2434.234222</td>\n",
       "      <td>17505.192460</td>\n",
       "      <td>2</td>\n",
       "      <td>4</td>\n",
       "      <td>4</td>\n",
       "      <td>4</td>\n",
       "      <td>3</td>\n",
       "      <td>4</td>\n",
       "      <td>3</td>\n",
       "      <td>3</td>\n",
       "    </tr>\n",
       "    <tr>\n",
       "      <th>3</th>\n",
       "      <td>2162</td>\n",
       "      <td>0</td>\n",
       "      <td>78</td>\n",
       "      <td>39741.49</td>\n",
       "      <td>16.576858</td>\n",
       "      <td>4</td>\n",
       "      <td>1</td>\n",
       "      <td>0</td>\n",
       "      <td>1.714879</td>\n",
       "      <td>2127.830423</td>\n",
       "      <td>12993.437350</td>\n",
       "      <td>3</td>\n",
       "      <td>5</td>\n",
       "      <td>5</td>\n",
       "      <td>3</td>\n",
       "      <td>4</td>\n",
       "      <td>5</td>\n",
       "      <td>5</td>\n",
       "      <td>5</td>\n",
       "    </tr>\n",
       "    <tr>\n",
       "      <th>4</th>\n",
       "      <td>5287</td>\n",
       "      <td>1</td>\n",
       "      <td>22</td>\n",
       "      <td>1209.56</td>\n",
       "      <td>17.439069</td>\n",
       "      <td>5</td>\n",
       "      <td>0</td>\n",
       "      <td>2</td>\n",
       "      <td>1.254807</td>\n",
       "      <td>2113.073274</td>\n",
       "      <td>3716.525786</td>\n",
       "      <td>2</td>\n",
       "      <td>1</td>\n",
       "      <td>3</td>\n",
       "      <td>3</td>\n",
       "      <td>5</td>\n",
       "      <td>3</td>\n",
       "      <td>4</td>\n",
       "      <td>3</td>\n",
       "    </tr>\n",
       "  </tbody>\n",
       "</table>\n",
       "</div>"
      ],
      "text/plain": [
       "   Population  Children  Age    Income  VitD_levels  Doc_visits  \\\n",
       "0        2951         1   53  86575.93    19.141466           6   \n",
       "1       11303         3   51  46805.99    18.940352           4   \n",
       "2       17125         3   53  14370.14    18.057507           4   \n",
       "3        2162         0   78  39741.49    16.576858           4   \n",
       "4        5287         1   22   1209.56    17.439069           5   \n",
       "\n",
       "   Full_meals_eaten  vitD_supp  Initial_days  TotalCharge  Additional_charges  \\\n",
       "0                 0          0     10.585770  3726.702860        17939.403420   \n",
       "1                 2          1     15.129562  4193.190458        17612.998120   \n",
       "2                 1          0      4.772177  2434.234222        17505.192460   \n",
       "3                 1          0      1.714879  2127.830423        12993.437350   \n",
       "4                 0          2      1.254807  2113.073274         3716.525786   \n",
       "\n",
       "   Item1  Item2  Item3  Item4  Item5  Item6  Item7  Item8  \n",
       "0      3      3      2      2      4      3      3      4  \n",
       "1      3      4      3      4      4      4      3      3  \n",
       "2      2      4      4      4      3      4      3      3  \n",
       "3      3      5      5      3      4      5      5      5  \n",
       "4      2      1      3      3      5      3      4      3  "
      ]
     },
     "execution_count": 12,
     "metadata": {},
     "output_type": "execute_result"
    }
   ],
   "source": [
    "df_num = df_num.drop(['CaseOrder','Zip','Lat','Lng'], axis=1)\n",
    "df_num.head()"
   ]
  },
  {
   "cell_type": "markdown",
   "metadata": {},
   "source": [
    "# Univariate Analysis"
   ]
  },
  {
   "cell_type": "code",
   "execution_count": 1,
   "metadata": {},
   "outputs": [],
   "source": [
    "import matplotlib.pyplot as plt\n",
    "import seaborn as sns"
   ]
  },
  {
   "cell_type": "code",
   "execution_count": 8,
   "metadata": {},
   "outputs": [
    {
     "data": {
      "image/png": "[encoded data removed]",
      "text/plain": [
       "<Figure size 432x288 with 1 Axes>"
      ]
     },
     "metadata": {
      "needs_background": "light"
     },
     "output_type": "display_data"
    }
   ],
   "source": [
    "plt.hist(df_num['Population'])\n",
    "plt.title('Population')\n",
    "plt.gcf().savefig('plots/Population_hist.png')"
   ]
  },
  {
   "cell_type": "code",
   "execution_count": 11,
   "metadata": {},
   "outputs": [
    {
     "data": {
      "image/png": "[encoded data removed]",
      "text/plain": [
       "<Figure size 432x288 with 1 Axes>"
      ]
     },
     "metadata": {
      "needs_background": "light"
     },
     "output_type": "display_data"
    }
   ],
   "source": [
    "plt.hist(df_num['Children'])\n",
    "plt.title('Children')\n",
    "plt.gcf().savefig('plots/Children_hist.png')"
   ]
  },
  {
   "cell_type": "code",
   "execution_count": 13,
   "metadata": {},
   "outputs": [
    {
     "data": {
      "image/png": "[encoded data removed]",
      "text/plain": [
       "<Figure size 432x288 with 1 Axes>"
      ]
     },
     "metadata": {
      "needs_background": "light"
     },
     "output_type": "display_data"
    }
   ],
   "source": [
    "plt.hist(df_num['Age'])\n",
    "plt.title('Age')\n",
    "plt.gcf().savefig('plots/Age_hist.png')"
   ]
  },
  {
   "cell_type": "code",
   "execution_count": 14,
   "metadata": {},
   "outputs": [
    {
     "data": {
      "image/png": "[encoded data removed]",
      "text/plain": [
       "<Figure size 432x288 with 1 Axes>"
      ]
     },
     "metadata": {
      "needs_background": "light"
     },
     "output_type": "display_data"
    }
   ],
   "source": [
    "plt.hist(df_num['Age'])\n",
    "plt.title('Age')\n",
    "plt.gcf().savefig('plots/Age_hist.png')"
   ]
  },
  {
   "cell_type": "code",
   "execution_count": 15,
   "metadata": {},
   "outputs": [
    {
     "data": {
      "image/png": "[encoded data removed]",
      "text/plain": [
       "<Figure size 432x288 with 1 Axes>"
      ]
     },
     "metadata": {
      "needs_background": "light"
     },
     "output_type": "display_data"
    }
   ],
   "source": [
    "plt.hist(df_num['Age'])\n",
    "plt.title('Age')\n",
    "plt.gcf().savefig('plots/Age_hist.png')"
   ]
  },
  {
   "cell_type": "code",
   "execution_count": 16,
   "metadata": {},
   "outputs": [
    {
     "data": {
      "image/png": "[encoded data removed]",
      "text/plain": [
       "<Figure size 432x288 with 1 Axes>"
      ]
     },
     "metadata": {
      "needs_background": "light"
     },
     "output_type": "display_data"
    }
   ],
   "source": [
    "plt.hist(df_num['Age'])\n",
    "plt.title('Age')\n",
    "plt.gcf().savefig('plots/Age_hist.png')"
   ]
  },
  {
   "cell_type": "code",
   "execution_count": 17,
   "metadata": {},
   "outputs": [
    {
     "data": {
      "image/png": "[encoded data removed]",
      "text/plain": [
       "<Figure size 432x288 with 1 Axes>"
      ]
     },
     "metadata": {
      "needs_background": "light"
     },
     "output_type": "display_data"
    }
   ],
   "source": [
    "plt.hist(df_num['Age'])\n",
    "plt.title('Age')\n",
    "plt.gcf().savefig('plots/Age_hist.png')"
   ]
  },
  {
   "cell_type": "code",
   "execution_count": 18,
   "metadata": {},
   "outputs": [
    {
     "data": {
      "image/png": "[encoded data removed]",
      "text/plain": [
       "<Figure size 432x288 with 1 Axes>"
      ]
     },
     "metadata": {
      "needs_background": "light"
     },
     "output_type": "display_data"
    }
   ],
   "source": [
    "plt.hist(df_num['Age'])\n",
    "plt.title('Age')\n",
    "plt.gcf().savefig('plots/Age_hist.png')"
   ]
  },
  {
   "cell_type": "code",
   "execution_count": 19,
   "metadata": {},
   "outputs": [
    {
     "data": {
      "image/png": "[encoded data removed]",
      "text/plain": [
       "<Figure size 432x288 with 1 Axes>"
      ]
     },
     "metadata": {
      "needs_background": "light"
     },
     "output_type": "display_data"
    }
   ],
   "source": [
    "plt.hist(df_num['Age'])\n",
    "plt.title('Age')\n",
    "plt.gcf().savefig('plots/Age_hist.png')"
   ]
  },
  {
   "cell_type": "code",
   "execution_count": 20,
   "metadata": {},
   "outputs": [
    {
     "data": {
      "image/png": "[encoded data removed]",
      "text/plain": [
       "<Figure size 432x288 with 1 Axes>"
      ]
     },
     "metadata": {
      "needs_background": "light"
     },
     "output_type": "display_data"
    }
   ],
   "source": [
    "plt.hist(df_num['Age'])\n",
    "plt.title('Age')\n",
    "plt.gcf().savefig('plots/Age_hist.png')"
   ]
  },
  {
   "cell_type": "code",
   "execution_count": 21,
   "metadata": {},
   "outputs": [
    {
     "data": {
      "image/png": "[encoded data removed]",
      "text/plain": [
       "<Figure size 432x288 with 1 Axes>"
      ]
     },
     "metadata": {
      "needs_background": "light"
     },
     "output_type": "display_data"
    }
   ],
   "source": [
    "plt.hist(df_num['Age'])\n",
    "plt.title('Age')\n",
    "plt.gcf().savefig('plots/Age_hist.png')"
   ]
  },
  {
   "cell_type": "code",
   "execution_count": null,
   "metadata": {},
   "outputs": [],
   "source": []
  }
 ],
 "metadata": {
  "kernelspec": {
   "display_name": "Python 3",
   "language": "python",
   "name": "python3"
  },
  "language_info": {
   "codemirror_mode": {
    "name": "ipython",
    "version": 3
   },
   "file_extension": ".py",
   "mimetype": "text/x-python",
   "name": "python",
   "nbconvert_exporter": "python",
   "pygments_lexer": "ipython3",
   "version": "3.8.5"
  }
 },
 "nbformat": 4,
 "nbformat_minor": 4
}
