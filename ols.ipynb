{
 "cells": [
  {
   "cell_type": "code",
   "execution_count": 1,
   "metadata": {},
   "outputs": [],
   "source": [
    "import numpy as np\n",
    "import pandas as pd"
   ]
  },
  {
   "cell_type": "code",
   "execution_count": 12,
   "metadata": {},
   "outputs": [],
   "source": [
    "df = pd.read_csv('data/medical_clean.csv')\n",
    "\n",
    "predictors = ['Population', 'Income', 'VitD_levels', 'Initial_days', 'Age', 'Full_meals_eaten', 'Children', 'Doc_visits']\n",
    "outcome = 'TotalCharge'\n",
    "\n",
    "df = df[['Population', 'Income', 'VitD_levels', 'Initial_days', 'Age', 'Full_meals_eaten', 'Children', 'Doc_visits', 'TotalCharge']]"
   ]
  },
  {
   "cell_type": "code",
   "execution_count": 14,
   "metadata": {},
   "outputs": [
    {
     "data": {
      "text/html": [
       "<div>\n",
       "<style scoped>\n",
       "    .dataframe tbody tr th:only-of-type {\n",
       "        vertical-align: middle;\n",
       "    }\n",
       "\n",
       "    .dataframe tbody tr th {\n",
       "        vertical-align: top;\n",
       "    }\n",
       "\n",
       "    .dataframe thead th {\n",
       "        text-align: right;\n",
       "    }\n",
       "</style>\n",
       "<table border=\"1\" class=\"dataframe\">\n",
       "  <thead>\n",
       "    <tr style=\"text-align: right;\">\n",
       "      <th></th>\n",
       "      <th>Population</th>\n",
       "      <th>Income</th>\n",
       "      <th>VitD_levels</th>\n",
       "      <th>Initial_days</th>\n",
       "      <th>Age</th>\n",
       "      <th>Full_meals_eaten</th>\n",
       "      <th>Children</th>\n",
       "      <th>Doc_visits</th>\n",
       "      <th>TotalCharge</th>\n",
       "    </tr>\n",
       "  </thead>\n",
       "  <tbody>\n",
       "    <tr>\n",
       "      <th>0</th>\n",
       "      <td>-0.473168</td>\n",
       "      <td>1.615914</td>\n",
       "      <td>0.583603</td>\n",
       "      <td>-0.907310</td>\n",
       "      <td>-0.024795</td>\n",
       "      <td>-0.993387</td>\n",
       "      <td>-0.507129</td>\n",
       "      <td>0.944647</td>\n",
       "      <td>-0.727185</td>\n",
       "    </tr>\n",
       "    <tr>\n",
       "      <th>1</th>\n",
       "      <td>0.090242</td>\n",
       "      <td>0.221443</td>\n",
       "      <td>0.483901</td>\n",
       "      <td>-0.734595</td>\n",
       "      <td>-0.121706</td>\n",
       "      <td>0.990609</td>\n",
       "      <td>0.417277</td>\n",
       "      <td>-0.967981</td>\n",
       "      <td>-0.513228</td>\n",
       "    </tr>\n",
       "    <tr>\n",
       "      <th>2</th>\n",
       "      <td>0.482983</td>\n",
       "      <td>-0.915870</td>\n",
       "      <td>0.046227</td>\n",
       "      <td>-1.128292</td>\n",
       "      <td>-0.024795</td>\n",
       "      <td>-0.001389</td>\n",
       "      <td>0.417277</td>\n",
       "      <td>-0.967981</td>\n",
       "      <td>-1.319983</td>\n",
       "    </tr>\n",
       "    <tr>\n",
       "      <th>3</th>\n",
       "      <td>-0.526393</td>\n",
       "      <td>-0.026263</td>\n",
       "      <td>-0.687811</td>\n",
       "      <td>-1.244503</td>\n",
       "      <td>1.186592</td>\n",
       "      <td>-0.001389</td>\n",
       "      <td>-0.969332</td>\n",
       "      <td>-0.967981</td>\n",
       "      <td>-1.460517</td>\n",
       "    </tr>\n",
       "    <tr>\n",
       "      <th>4</th>\n",
       "      <td>-0.315586</td>\n",
       "      <td>-1.377325</td>\n",
       "      <td>-0.260366</td>\n",
       "      <td>-1.261991</td>\n",
       "      <td>-1.526914</td>\n",
       "      <td>-0.993387</td>\n",
       "      <td>-0.507129</td>\n",
       "      <td>-0.011667</td>\n",
       "      <td>-1.467285</td>\n",
       "    </tr>\n",
       "  </tbody>\n",
       "</table>\n",
       "</div>"
      ],
      "text/plain": [
       "   Population    Income  VitD_levels  Initial_days       Age  \\\n",
       "0   -0.473168  1.615914     0.583603     -0.907310 -0.024795   \n",
       "1    0.090242  0.221443     0.483901     -0.734595 -0.121706   \n",
       "2    0.482983 -0.915870     0.046227     -1.128292 -0.024795   \n",
       "3   -0.526393 -0.026263    -0.687811     -1.244503  1.186592   \n",
       "4   -0.315586 -1.377325    -0.260366     -1.261991 -1.526914   \n",
       "\n",
       "   Full_meals_eaten  Children  Doc_visits  TotalCharge  \n",
       "0         -0.993387 -0.507129    0.944647    -0.727185  \n",
       "1          0.990609  0.417277   -0.967981    -0.513228  \n",
       "2         -0.001389  0.417277   -0.967981    -1.319983  \n",
       "3         -0.001389 -0.969332   -0.967981    -1.460517  \n",
       "4         -0.993387 -0.507129   -0.011667    -1.467285  "
      ]
     },
     "execution_count": 14,
     "metadata": {},
     "output_type": "execute_result"
    }
   ],
   "source": [
    "from sklearn.preprocessing import StandardScaler\n",
    "\n",
    "scaler = StandardScaler()\n",
    "\n",
    "scaled = scaler.fit_transform(df)\n",
    "df_scaled = pd.DataFrame(scaled, columns=df.columns)\n",
    "df_scaled.head()"
   ]
  },
  {
   "cell_type": "code",
   "execution_count": 15,
   "metadata": {},
   "outputs": [],
   "source": [
    "df_scaled.to_csv('data/medical_scaled.csv')"
   ]
  },
  {
   "cell_type": "code",
   "execution_count": 16,
   "metadata": {},
   "outputs": [
    {
     "name": "stdout",
     "output_type": "stream",
     "text": [
      "Initial Score: 0.97552 \n"
     ]
    }
   ],
   "source": [
    "import statsmodels.api as sm\n",
    "from sklearn.model_selection import train_test_split\n",
    "from sklearn.linear_model import LinearRegression\n",
    "\n",
    "X = df_scaled[predictors]\n",
    "X = sm.add_constant(X)\n",
    "y = df[outcome].values\n",
    "\n",
    "X_train, X_test, y_train, y_test = train_test_split(X, y, test_size=.80)\n",
    "\n",
    "regression = LinearRegression()\n",
    "model = regression.fit(X_train, y_train)\n",
    "initial_score = model.score(X_test, y_test)\n",
    "print('Initial Score: %6.5f ' % initial_score)"
   ]
  },
  {
   "cell_type": "code",
   "execution_count": 17,
   "metadata": {},
   "outputs": [],
   "source": [
    "# from sklearn.preprocessing import StandardScaler\n",
    "\n",
    "# observations = len(df)\n",
    "# variables = df.columns\n",
    "# standardization = StandardScaler()\n",
    "# Xst = standardization.fit_transform(X)\n",
    "# Xst = np.column_stack((Xst,np.ones(observations)))\n",
    "# y  = df[outcome].values"
   ]
  },
  {
   "cell_type": "code",
   "execution_count": 18,
   "metadata": {},
   "outputs": [],
   "source": [
    "# import random\n",
    "\n",
    "# def random_w( p ):\n",
    "#     return np.array([np.random.normal() for j in range(p)])\n",
    "\n",
    "# def hypothesis(X,w):\n",
    "#     return np.dot(X,w)\n",
    "\n",
    "# def loss(X,w,y):\n",
    "#     return hypothesis(X,w) - y\n",
    "\n",
    "# def squared_loss(X,w,y):\n",
    "#     return loss(X,w,y)**2\n",
    "\n",
    "# def gradient(X,w,y):\n",
    "#     gradients = list()\n",
    "#     n = float(len( y ))\n",
    "#     for j in range(len(w)):\n",
    "#         gradients.append(np.sum(loss(X,w,y) * X[:,j]) / n)\n",
    "#     return gradients\n",
    "\n",
    "# def update(X,w,y, alpha=0.01):\n",
    "#     return [t - alpha*g for t, g in zip(w, gradient(X,w,y))]\n",
    "\n",
    "# def optimize(X,y, alpha=0.01, eta = 10**-12, iterations = 1000):\n",
    "#     w = random_w(X.shape[1])\n",
    "#     path = list()\n",
    "#     for k in range(iterations):\n",
    "#         SSL = np.sum(squared_loss(X,w,y))\n",
    "#         new_w = update(X,w,y, alpha=alpha)\n",
    "#         new_SSL = np.sum(squared_loss(X,new_w,y))\n",
    "#         w = new_w\n",
    "#         if k>=5 and (new_SSL - SSL <= eta and new_SSL - SSL >= -eta):\n",
    "#             path.append(new_SSL)\n",
    "#             return w, path\n",
    "#         if k % (iterations / 20) == 0:\n",
    "#             path.append(new_SSL)\n",
    "#     return w, path\n",
    "\n",
    "# alpha = 0.02\n",
    "# w, path = optimize(Xst, y, alpha, eta = 10**-12, iterations = 20000)\n",
    "# print (\"These are our final standardized coefficients: \" + ', '.join(map(lambda x: \"%0.4f\" % x, w))) "
   ]
  },
  {
   "cell_type": "code",
   "execution_count": null,
   "metadata": {},
   "outputs": [],
   "source": []
  }
 ],
 "metadata": {
  "kernelspec": {
   "display_name": "Python 3",
   "language": "python",
   "name": "python3"
  },
  "language_info": {
   "codemirror_mode": {
    "name": "ipython",
    "version": 3
   },
   "file_extension": ".py",
   "mimetype": "text/x-python",
   "name": "python",
   "nbconvert_exporter": "python",
   "pygments_lexer": "ipython3",
   "version": "3.8.5"
  }
 },
 "nbformat": 4,
 "nbformat_minor": 4
}
